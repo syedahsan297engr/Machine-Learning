{
 "cells": [
  {
   "cell_type": "markdown",
   "id": "346a1ca1",
   "metadata": {},
   "source": [
    "We have some terms to understand\n",
    "\n",
    "Data Normalization --- means a scale is defined with some mean and standard deviation range 0-1 value/max.value in that feature\n",
    "\n",
    "Data Standardization --- like in some countries they use L/km instead of mpg(miles per gallon) so convert in stand. form using maths formula or whatever needed\n",
    "\n",
    "Data Binning ---- Binning is like that u have continuous data and you want to specify this into 3 classes so use binning, u can divide it into bins using np.linspace(min_value,max_value,number_gen) number_gen means how many points on the basis of which you divide\n",
    "\n",
    "Ordinal Data ---- Data which can be assigned degrees like good better best 1 2 3 you can use LabelEncoder function and it will automatically assign degrees\n",
    "\n",
    "Non-Ordinal Data ---- We have to use one hot encoding for this like red, green, blue eyes we cannot specify these as 1 2 3 we have to use one hot encoding\n",
    "\n",
    "One-hot Encoding ---- Using get_dummies method suppose you have 3 features in column then 3 more columns will be formed as \n",
    "1 0 0\n",
    "0 1 0\n",
    "1 0 0\n",
    "Like this\n"
   ]
  }
 ],
 "metadata": {
  "kernelspec": {
   "display_name": "Python 3 (ipykernel)",
   "language": "python",
   "name": "python3"
  },
  "language_info": {
   "codemirror_mode": {
    "name": "ipython",
    "version": 3
   },
   "file_extension": ".py",
   "mimetype": "text/x-python",
   "name": "python",
   "nbconvert_exporter": "python",
   "pygments_lexer": "ipython3",
   "version": "3.9.12"
  }
 },
 "nbformat": 4,
 "nbformat_minor": 5
}

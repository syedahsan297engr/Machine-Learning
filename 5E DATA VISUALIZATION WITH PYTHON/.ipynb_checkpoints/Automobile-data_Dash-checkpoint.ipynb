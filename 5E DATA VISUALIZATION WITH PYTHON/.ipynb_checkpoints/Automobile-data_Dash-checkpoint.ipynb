{
 "cells": [
  {
   "cell_type": "code",
   "execution_count": 1,
   "id": "62b26ef1",
   "metadata": {},
   "outputs": [],
   "source": [
    "# Import required libraries\n",
    "import pandas as pd\n",
    "import dash\n",
    "from dash import html\n",
    "from dash import dcc\n",
    "from dash.dependencies import Input, Output\n",
    "import plotly.express as px"
   ]
  },
  {
   "cell_type": "code",
   "execution_count": 2,
   "id": "d1c7dbc1",
   "metadata": {},
   "outputs": [],
   "source": [
    "path='https://cf-courses-data.s3.us.cloud-object-storage.appdomain.cloud/IBMDeveloperSkillsNetwork-DA0101EN-SkillsNetwork/labs/Data%20files/automobileEDA.csv'\n",
    "df = pd.read_csv(path)"
   ]
  },
  {
   "cell_type": "code",
   "execution_count": null,
   "id": "b57defe4",
   "metadata": {
    "scrolled": true
   },
   "outputs": [],
   "source": [
    "df.head()"
   ]
  },
  {
   "cell_type": "code",
   "execution_count": null,
   "id": "bbb68ccc",
   "metadata": {},
   "outputs": [],
   "source": [
    "app = dash.Dash(__name__)\n",
    "\n",
    "#Layout Section of Dash\n",
    "\n",
    "app.layout = html.Div(children=[html.H1('Car Automobile Components', \n",
    "                                style={'textAlign': 'center', 'color': '#503D36',\n",
    "                                'font-size': 24}),\n",
    "\n",
    "     #outer division starts\n",
    "     html.Div([\n",
    "                   # First inner divsion for  adding dropdown helper text for Selected Drive wheels\n",
    "                    html.Div(\n",
    "                            html.H2('Drive Wheels Type:', style={'margin-right': '2em'}),\n",
    "                     ),\n",
    "                    \n",
    "\n",
    "                      dcc.Dropdown(\n",
    "                            id='demo-dropdown',\n",
    "                            options=[\n",
    "                            {'label': 'Rear Wheel Drive', 'value': 'rwd'},\n",
    "                            {'label': 'Front Wheel Drive', 'value': 'fwd'},\n",
    "                            {'label': 'Four Wheel Drive', 'value': '4wd'}\n",
    "                        ],\n",
    "                        value='rwd'\n",
    "                        ),\n",
    "\n",
    "                    #Second Inner division for adding 2 inner divisions for 2 output graphs \n",
    "                    html.Div([\n",
    "                \n",
    "                        html.Div([ ], id='plot1'),\n",
    "                        html.Div([ ], id='plot2')\n",
    "                        \n",
    "                    ], style={'display': 'flex'}),\n",
    "\n",
    "\n",
    "    ])\n",
    "    #outer division ends\n",
    "\n",
    "])\n",
    "#layout ends\n",
    "\n",
    "#Place to add @app.callback Decorator\n",
    "@app.callback([Output(component_id='plot1', component_property='children'),\n",
    "               Output(component_id='plot2', component_property='children')],\n",
    "               Input(component_id='demo-dropdown', component_property='value'))\n",
    "\n",
    "   \n",
    "#Place to define the callback function .\n",
    "def display_selected_drive_charts(value):\n",
    "   \n",
    "\n",
    "   \n",
    "   filtered_df = df[df['drive-wheels']==value].groupby(['drive-wheels','body-style'],as_index=False). \\\n",
    "            mean()\n",
    "        \n",
    "   filtered_df = filtered_df\n",
    "   \n",
    "   fig1 = px.pie(filtered_df, values='price', names='body-style', title=\"Pie Chart\")\n",
    "   fig2 = px.bar(filtered_df, x='body-style', y='price', title='Bar Chart')\n",
    "    \n",
    "   return [dcc.Graph(figure=fig1),\n",
    "            dcc.Graph(figure=fig2) ]"
   ]
  },
  {
   "cell_type": "code",
   "execution_count": null,
   "id": "e146bcda",
   "metadata": {},
   "outputs": [
    {
     "name": "stdout",
     "output_type": "stream",
     "text": [
      "Dash is running on http://127.0.0.1:8050/\n",
      "\n",
      "Dash is running on http://127.0.0.1:8050/\n",
      "\n",
      " * Serving Flask app \"__main__\" (lazy loading)\n",
      " * Environment: production\n",
      "   WARNING: This is a development server. Do not use it in a production deployment.\n",
      "   Use a production WSGI server instead.\n",
      " * Debug mode: off\n"
     ]
    },
    {
     "name": "stderr",
     "output_type": "stream",
     "text": [
      " * Running on http://127.0.0.1:8050/ (Press CTRL+C to quit)\n"
     ]
    }
   ],
   "source": [
    "if __name__ == '__main__':\n",
    "    app.run_server()"
   ]
  }
 ],
 "metadata": {
  "kernelspec": {
   "display_name": "Python 3 (ipykernel)",
   "language": "python",
   "name": "python3"
  },
  "language_info": {
   "codemirror_mode": {
    "name": "ipython",
    "version": 3
   },
   "file_extension": ".py",
   "mimetype": "text/x-python",
   "name": "python",
   "nbconvert_exporter": "python",
   "pygments_lexer": "ipython3",
   "version": "3.9.12"
  }
 },
 "nbformat": 4,
 "nbformat_minor": 5
}

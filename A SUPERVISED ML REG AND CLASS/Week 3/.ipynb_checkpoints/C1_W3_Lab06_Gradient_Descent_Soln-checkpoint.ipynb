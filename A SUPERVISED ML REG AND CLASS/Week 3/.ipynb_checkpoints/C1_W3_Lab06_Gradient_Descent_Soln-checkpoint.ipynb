{
 "cells": [
  {
   "cell_type": "markdown",
   "id": "85953bea",
   "metadata": {},
   "source": [
    "# Optional Lab: Gradient Descent for Logistic Regression"
   ]
  },
  {
   "cell_type": "markdown",
   "id": "1aa8418f",
   "metadata": {},
   "source": [
    "## Goals\n",
    "In this lab, you will:\n",
    "- update gradient descent for logistic regression.\n",
    "- explore gradient descent on a familiar data set"
   ]
  },
  {
   "cell_type": "code",
   "execution_count": 2,
   "id": "15ac51b6",
   "metadata": {},
   "outputs": [],
   "source": [
    "import copy, math\n",
    "import numpy as np\n",
    "%matplotlib widget\n",
    "import matplotlib.pyplot as plt\n",
    "from lab_utils_common import  dlc, plot_data, plt_tumor_data, sigmoid, compute_cost_logistic\n",
    "#from plt_quad_logistic import plt_quad_logistic, plt_prob\n",
    "plt.style.use('./deeplearning.mplstyle')"
   ]
  },
  {
   "cell_type": "markdown",
   "id": "05662500",
   "metadata": {},
   "source": [
    "## Data set \n",
    "Let's start with the same two feature data set used in the decision boundary lab."
   ]
  },
  {
   "cell_type": "code",
   "execution_count": 3,
   "id": "ea88fa2d",
   "metadata": {},
   "outputs": [],
   "source": [
    "X_train = np.array([[0.5, 1.5], [1,1], [1.5, 0.5], [3, 0.5], [2, 2], [1, 2.5]])\n",
    "y_train = np.array([0, 0, 0, 1, 1, 1])"
   ]
  },
  {
   "cell_type": "markdown",
   "id": "8f706b77",
   "metadata": {},
   "source": [
    "As before, we'll use a helper function to plot this data. The data points with label $y=1$ are shown as red crosses, while the data points with label $y=0$ are shown as blue circles."
   ]
  },
  {
   "cell_type": "code",
   "execution_count": 4,
   "id": "8861a105",
   "metadata": {},
   "outputs": [
    {
     "data": {
      "application/vnd.jupyter.widget-view+json": {
       "model_id": "62e1387a23e64fe39bc962a6f121bf8a",
       "version_major": 2,
       "version_minor": 0
      },
      "image/png": "[encoded data removed]",
      "text/html": [
       "\n",
       "            <div style=\"display: inline-block;\">\n",
       "                <div class=\"jupyter-widgets widget-label\" style=\"text-align: center;\">\n",
       "                    Figure\n",
       "                </div>\n",
       "                <img src='data:image/png;base64,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' width=400.0/>\n",
       "            </div>\n",
       "        "
      ],
      "text/plain": [
       "Canvas(footer_visible=False, header_visible=False, toolbar=Toolbar(toolitems=[('Home', 'Reset original view', …"
      ]
     },
     "metadata": {},
     "output_type": "display_data"
    }
   ],
   "source": [
    "fig,ax = plt.subplots(1,1,figsize=(4,4))\n",
    "plot_data(X_train, y_train, ax)\n",
    "\n",
    "ax.axis([0, 4, 0, 3.5])\n",
    "ax.set_ylabel('$x_1$', fontsize=12)\n",
    "ax.set_xlabel('$x_0$', fontsize=12)\n",
    "plt.show()"
   ]
  },
  {
   "cell_type": "markdown",
   "id": "bd6584f6",
   "metadata": {},
   "source": [
    "## Logistic Gradient Descent\n",
    "<img align=\"right\" src=\"./images/C1_W3_Logistic_gradient_descent.png\"     style=\" width:400px; padding: 10px; \" >\n",
    "\n",
    "Recall the gradient descent algorithm utilizes the gradient calculation:\n",
    "$$\\begin{align*}\n",
    "&\\text{repeat until convergence:} \\; \\lbrace \\\\\n",
    "&  \\; \\; \\;w_j = w_j -  \\alpha \\frac{\\partial J(\\mathbf{w},b)}{\\partial w_j} \\tag{1}  \\; & \\text{for j := 0..n-1} \\\\ \n",
    "&  \\; \\; \\;  \\; \\;b = b -  \\alpha \\frac{\\partial J(\\mathbf{w},b)}{\\partial b} \\\\\n",
    "&\\rbrace\n",
    "\\end{align*}$$\n",
    "\n",
    "Where each iteration performs simultaneous updates on $w_j$ for all $j$, where\n",
    "$$\\begin{align*}\n",
    "\\frac{\\partial J(\\mathbf{w},b)}{\\partial w_j}  &= \\frac{1}{m} \\sum\\limits_{i = 0}^{m-1} (f_{\\mathbf{w},b}(\\mathbf{x}^{(i)}) - y^{(i)})x_{j}^{(i)} \\tag{2} \\\\\n",
    "\\frac{\\partial J(\\mathbf{w},b)}{\\partial b}  &= \\frac{1}{m} \\sum\\limits_{i = 0}^{m-1} (f_{\\mathbf{w},b}(\\mathbf{x}^{(i)}) - y^{(i)}) \\tag{3} \n",
    "\\end{align*}$$\n",
    "\n",
    "* m is the number of training examples in the data set      \n",
    "* $f_{\\mathbf{w},b}(x^{(i)})$ is the model's prediction, while $y^{(i)}$ is the target\n",
    "* For a logistic regression model  \n",
    "    $z = \\mathbf{w} \\cdot \\mathbf{x} + b$  \n",
    "    $f_{\\mathbf{w},b}(x) = g(z)$  \n",
    "    where $g(z)$ is the sigmoid function:  \n",
    "    $g(z) = \\frac{1}{1+e^{-z}}$   \n",
    "    \n"
   ]
  },
  {
   "cell_type": "markdown",
   "id": "6e6b783e",
   "metadata": {},
   "source": [
    "### Gradient Descent Implementation\n",
    "The gradient descent algorithm implementation has two components: \n",
    "- The loop implementing equation (1) above. This is `gradient_descent` below and is generally provided to you in optional and practice labs.\n",
    "- The calculation of the current gradient, equations (2,3) above. This is `compute_gradient_logistic` below. You will be asked to implement this week's practice lab.\n",
    "\n",
    "#### Calculating the Gradient, Code Description\n",
    "Implements equation (2),(3) above for all $w_j$ and $b$.\n",
    "There are many ways to implement this. Outlined below is this:\n",
    "- initialize variables to accumulate `dj_dw` and `dj_db`\n",
    "- for each example\n",
    "    - calculate the error for that example $g(\\mathbf{w} \\cdot \\mathbf{x}^{(i)} + b) - \\mathbf{y}^{(i)}$\n",
    "    - for each input value $x_{j}^{(i)}$ in this example,  \n",
    "        - multiply the error by the input  $x_{j}^{(i)}$, and add to the corresponding element of `dj_dw`. (equation 2 above)\n",
    "    - add the error to `dj_db` (equation 3 above)\n",
    "\n",
    "- divide `dj_db` and `dj_dw` by total number of examples (m)\n",
    "- note that $\\mathbf{x}^{(i)}$ in numpy `X[i,:]` or `X[i]`  and $x_{j}^{(i)}$ is `X[i,j]`"
   ]
  },
  {
   "cell_type": "code",
   "execution_count": 5,
   "id": "52f751cd",
   "metadata": {},
   "outputs": [],
   "source": [
    "def compute_gradient_logistic(X, y, w, b): \n",
    "    \"\"\"\n",
    "    Computes the gradient for linear regression \n",
    " \n",
    "    Args:\n",
    "      X (ndarray (m,n): Data, m examples with n features\n",
    "      y (ndarray (m,)): target values\n",
    "      w (ndarray (n,)): model parameters  \n",
    "      b (scalar)      : model parameter\n",
    "    Returns\n",
    "      dj_dw (ndarray (n,)): The gradient of the cost w.r.t. the parameters w. \n",
    "      dj_db (scalar)      : The gradient of the cost w.r.t. the parameter b. \n",
    "    \"\"\"\n",
    "    m,n = X.shape\n",
    "    dj_dw = np.zeros((n,))                           #(n,)\n",
    "    dj_db = 0.\n",
    "\n",
    "    for i in range(m):\n",
    "        f_wb_i = sigmoid(np.dot(X[i],w) + b)          #(n,)(n,)=scalar\n",
    "        err_i  = f_wb_i  - y[i]                       #scalar\n",
    "        for j in range(n):\n",
    "            dj_dw[j] = dj_dw[j] + err_i * X[i,j]      #scalar\n",
    "        dj_db = dj_db + err_i\n",
    "    dj_dw = dj_dw/m                                   #(n,)\n",
    "    dj_db = dj_db/m                                   #scalar\n",
    "        \n",
    "    return dj_db, dj_dw  "
   ]
  },
  {
   "cell_type": "code",
   "execution_count": 6,
   "id": "c08b536d",
   "metadata": {},
   "outputs": [],
   "source": [
    "def compute_gradient_logistic_2(X, y, w, b): \n",
    "\n",
    "    m,n = X.shape\n",
    "    dj_dw = np.zeros((n,))                           #(n,)\n",
    "    dj_db = 0.\n",
    "\n",
    "    for i in range(m):\n",
    "        f_wb_i = sigmoid(np.dot(X[i],w) + b)          #(n,)(n,)=scalar\n",
    "        err_i  = f_wb_i  - y[i]                       #scalar\n",
    "        dj_db = dj_db + err_i\n",
    "    dj_db = dj_db/m \n",
    "    \n",
    "    for j in range(n):\n",
    "        f_wb_i = sigmoid(np.dot(X[j],w) + b)          #(n,)(n,)=scalar\n",
    "        err_ii  = (f_wb_i  - y[j])*X[j]      #scalar\n",
    "        dj_dw = dj_dw + err_ii\n",
    "    dj_dw = dj_dw/m                                   #(n,)\n",
    "                                  #scalar\n",
    "        \n",
    "    return dj_db, dj_dw  \n",
    "\n",
    "#some issues in it"
   ]
  },
  {
   "cell_type": "markdown",
   "id": "a87a0bf4",
   "metadata": {},
   "source": [
    "Check the implementation of the gradient function using the cell below."
   ]
  },
  {
   "cell_type": "code",
   "execution_count": 25,
   "id": "e974352c",
   "metadata": {},
   "outputs": [
    {
     "name": "stdout",
     "output_type": "stream",
     "text": [
      "dj_db: 0.49861806546328574\n",
      "dj_dw: [0.498333393278696, 0.49883942983996693]\n"
     ]
    }
   ],
   "source": [
    "X_tmp = np.array([[0.5, 1.5], [1,1], [1.5, 0.5], [3, 0.5], [2, 2], [1, 2.5]])\n",
    "y_tmp = np.array([0, 0, 0, 1, 1, 1])\n",
    "w_tmp = np.array([2.,3.]) #giving 2 w's bcz cols you say variables are 2\n",
    "b_tmp = 1.\n",
    "dj_db_tmp, dj_dw_tmp = compute_gradient_logistic(X_tmp, y_tmp, w_tmp, b_tmp)\n",
    "print(f\"dj_db: {dj_db_tmp}\" )\n",
    "print(f\"dj_dw: {dj_dw_tmp.tolist()}\" )"
   ]
  },
  {
   "cell_type": "code",
   "execution_count": 24,
   "id": "f114ddfe",
   "metadata": {},
   "outputs": [
    {
     "name": "stdout",
     "output_type": "stream",
     "text": [
      "dj_db: 0.49861806546328574\n",
      "dj_dw: [0.24946279761916612, 0.4158792672430433]\n"
     ]
    }
   ],
   "source": [
    "X_tmp = np.array([[0.5, 1.5], [1,1], [1.5, 0.5], [3, 0.5], [2, 2], [1, 2.5]])\n",
    "y_tmp = np.array([0, 0, 0, 1, 1, 1])\n",
    "w_tmp = np.array([2.,3.])\n",
    "b_tmp = 1.\n",
    "dj_db_tmp, dj_dw_tmp = compute_gradient_logistic_2(X_tmp, y_tmp, w_tmp, b_tmp)\n",
    "print(f\"dj_db: {dj_db_tmp}\" )\n",
    "print(f\"dj_dw: {dj_dw_tmp.tolist()}\" )"
   ]
  },
  {
   "cell_type": "code",
   "execution_count": 8,
   "id": "44e6edaf",
   "metadata": {},
   "outputs": [
    {
     "data": {
      "text/plain": [
       "(2,)"
      ]
     },
     "execution_count": 8,
     "metadata": {},
     "output_type": "execute_result"
    }
   ],
   "source": [
    "w_tmp.shape"
   ]
  },
  {
   "cell_type": "markdown",
   "id": "2ba23c21",
   "metadata": {},
   "source": [
    "**Expected output**\n",
    "``` \n",
    "dj_db: 0.49861806546328574\n",
    "dj_dw: [0.498333393278696, 0.49883942983996693]\n",
    "```"
   ]
  },
  {
   "cell_type": "markdown",
   "id": "22534b12",
   "metadata": {},
   "source": [
    "#### Gradient Descent Code \n",
    "The code implementing equation (1) above is implemented below. Take a moment to locate and compare the functions in the routine to the equations above."
   ]
  },
  {
   "cell_type": "code",
   "execution_count": 26,
   "id": "b056e29b",
   "metadata": {},
   "outputs": [],
   "source": [
    "def gradient_descent(X, y, w_in, b_in, alpha, num_iters): \n",
    "    \"\"\"\n",
    "    Performs batch gradient descent\n",
    "    \n",
    "    Args:\n",
    "      X (ndarray (m,n)   : Data, m examples with n features\n",
    "      y (ndarray (m,))   : target values\n",
    "      w_in (ndarray (n,)): Initial values of model parameters  \n",
    "      b_in (scalar)      : Initial values of model parameter\n",
    "      alpha (float)      : Learning rate\n",
    "      num_iters (scalar) : number of iterations to run gradient descent\n",
    "      \n",
    "    Returns:\n",
    "      w (ndarray (n,))   : Updated values of parameters\n",
    "      b (scalar)         : Updated value of parameter \n",
    "    \"\"\"\n",
    "    # An array to store cost J and w's at each iteration primarily for graphing later\n",
    "    J_history = []\n",
    "    w = copy.deepcopy(w_in)  #avoid modifying global w within function\n",
    "    b = b_in\n",
    "    \n",
    "    for i in range(num_iters):\n",
    "        # Calculate the gradient and update the parameters\n",
    "        dj_db, dj_dw = compute_gradient_logistic(X, y, w, b)   \n",
    "\n",
    "        # Update Parameters using w, b, alpha and gradient\n",
    "        w = w - alpha * dj_dw               \n",
    "        b = b - alpha * dj_db               \n",
    "      \n",
    "        # Save cost J at each iteration\n",
    "        if i<100000:      # prevent resource exhaustion \n",
    "            J_history.append( compute_cost_logistic(X, y, w, b) )\n",
    "\n",
    "        # Print cost every at intervals 10 times or as many iterations if < 10\n",
    "        if i% math.ceil(num_iters / 10) == 0:\n",
    "            print(f\"Iteration {i:4d}: Cost {J_history[-1]}   \")\n",
    "        \n",
    "    return w, b, J_history         #return final w,b and J history for graphing\n"
   ]
  },
  {
   "cell_type": "markdown",
   "id": "06f7a5a2",
   "metadata": {},
   "source": [
    "Let's run gradient descent on our data set."
   ]
  },
  {
   "cell_type": "code",
   "execution_count": 27,
   "id": "d8e83e6b",
   "metadata": {},
   "outputs": [
    {
     "name": "stdout",
     "output_type": "stream",
     "text": [
      "Iteration    0: Cost 0.684610468560574   \n",
      "Iteration 1000: Cost 0.1590977666870456   \n",
      "Iteration 2000: Cost 0.08460064176930081   \n",
      "Iteration 3000: Cost 0.05705327279402531   \n",
      "Iteration 4000: Cost 0.042907594216820076   \n",
      "Iteration 5000: Cost 0.034338477298845684   \n",
      "Iteration 6000: Cost 0.028603798022120097   \n",
      "Iteration 7000: Cost 0.024501569608793   \n",
      "Iteration 8000: Cost 0.02142370332569295   \n",
      "Iteration 9000: Cost 0.019030137124109114   \n",
      "\n",
      "updated parameters: w:[5.28 5.08], b:-14.222409982019837\n"
     ]
    }
   ],
   "source": [
    "w_tmp  = np.zeros_like(X_train[0])\n",
    "b_tmp  = 0.\n",
    "alph = 0.1\n",
    "iters = 10000\n",
    "\n",
    "w_out, b_out, _ = gradient_descent(X_train, y_train, w_tmp, b_tmp, alph, iters) \n",
    "print(f\"\\nupdated parameters: w:{w_out}, b:{b_out}\")"
   ]
  },
  {
   "cell_type": "markdown",
   "id": "1fcbb769",
   "metadata": {},
   "source": [
    "#### Let's plot the results of gradient descent:"
   ]
  },
  {
   "cell_type": "code",
   "execution_count": 28,
   "id": "0c2a4e97",
   "metadata": {},
   "outputs": [
    {
     "data": {
      "application/vnd.jupyter.widget-view+json": {
       "model_id": "d644e0f1d0334f9e93c4b8f8ae76345c",
       "version_major": 2,
       "version_minor": 0
      },
      "text/plain": [
       "Canvas(toolbar=Toolbar(toolitems=[('Home', 'Reset original view', 'home', 'home'), ('Back', 'Back to previous …"
      ]
     },
     "metadata": {},
     "output_type": "display_data"
    }
   ],
   "source": [
    "fig,ax = plt.subplots(1,1,figsize=(5,4))\n",
    "# plot the probability \n",
    "plt_prob(ax, w_out, b_out)\n",
    "\n",
    "# Plot the original data\n",
    "ax.set_ylabel(r'$x_1$')\n",
    "ax.set_xlabel(r'$x_0$')   \n",
    "ax.axis([0, 4, 0, 3.5])\n",
    "plot_data(X_train,y_train,ax)\n",
    "\n",
    "# Plot the decision boundary\n",
    "x0 = -b_out/w_out[0]\n",
    "x1 = -b_out/w_out[1]\n",
    "ax.plot([0,x0],[x1,0], c=dlc[\"dlblue\"], lw=1)\n",
    "plt.show()"
   ]
  },
  {
   "cell_type": "markdown",
   "id": "69adedae",
   "metadata": {},
   "source": [
    "In the plot above:\n",
    " - the shading reflects the probability y=1 (result prior to decision boundary)\n",
    " - the decision boundary is the line at which the probability = 0.5\n",
    " "
   ]
  },
  {
   "cell_type": "markdown",
   "id": "a486c3a6",
   "metadata": {},
   "source": [
    "## Another Data set\n",
    "Let's return to a one-variable data set. With just two parameters, $w$, $b$, it is possible to plot the cost function using a contour plot to get a better idea of what gradient descent is up to."
   ]
  },
  {
   "cell_type": "code",
   "execution_count": 30,
   "id": "85f1535e",
   "metadata": {},
   "outputs": [],
   "source": [
    "x_train = np.array([0., 1, 2, 3, 4, 5])\n",
    "y_train = np.array([0,  0, 0, 1, 1, 1])"
   ]
  },
  {
   "cell_type": "markdown",
   "id": "e9b23523",
   "metadata": {},
   "source": [
    "As before, we'll use a helper function to plot this data. The data points with label $y=1$ are shown as red crosses, while the data points with label $y=0$ are shown as blue circles."
   ]
  },
  {
   "cell_type": "code",
   "execution_count": 31,
   "id": "b57d02d0",
   "metadata": {},
   "outputs": [
    {
     "data": {
      "application/vnd.jupyter.widget-view+json": {
       "model_id": "83231e0cd1694c9889175acad0469656",
       "version_major": 2,
       "version_minor": 0
      },
      "text/plain": [
       "Canvas(toolbar=Toolbar(toolitems=[('Home', 'Reset original view', 'home', 'home'), ('Back', 'Back to previous …"
      ]
     },
     "metadata": {},
     "output_type": "display_data"
    }
   ],
   "source": [
    "fig,ax = plt.subplots(1,1,figsize=(4,3))\n",
    "plt_tumor_data(x_train, y_train, ax)\n",
    "plt.show()"
   ]
  },
  {
   "cell_type": "markdown",
   "id": "dd03f76f",
   "metadata": {},
   "source": [
    "In the plot below, try:\n",
    "- changing $w$ and $b$ by clicking within the contour plot on the upper right.\n",
    "    - changes may take a second or two\n",
    "    - note the changing value of cost on the upper left plot.\n",
    "    - note the cost is accumulated by a loss on each example (vertical dotted lines)\n",
    "- run gradient descent by clicking the orange button.\n",
    "    - note the steadily decreasing cost (contour and cost plot are in log(cost) \n",
    "    - clicking in the contour plot will reset the model for a new run\n",
    "- to reset the plot, rerun the cell"
   ]
  },
  {
   "cell_type": "code",
   "execution_count": 32,
   "id": "499c5232",
   "metadata": {},
   "outputs": [
    {
     "data": {
      "application/vnd.jupyter.widget-view+json": {
       "model_id": "660914b2bb3447d281096bde21fd7c31",
       "version_major": 2,
       "version_minor": 0
      },
      "text/plain": [
       "Canvas(toolbar=Toolbar(toolitems=[('Home', 'Reset original view', 'home', 'home'), ('Back', 'Back to previous …"
      ]
     },
     "metadata": {},
     "output_type": "display_data"
    }
   ],
   "source": [
    "w_range = np.array([-1, 7])\n",
    "b_range = np.array([1, -14])\n",
    "quad = plt_quad_logistic( x_train, y_train, w_range, b_range )"
   ]
  },
  {
   "cell_type": "markdown",
   "id": "13f7b3e0",
   "metadata": {},
   "source": [
    "## Congratulations!\n",
    "You have:\n",
    "- examined the formulas and implementation of calculating the gradient for logistic regression\n",
    "- utilized those routines in\n",
    "    - exploring a single variable data set\n",
    "    - exploring a two-variable data set"
   ]
  },
  {
   "cell_type": "code",
   "execution_count": null,
   "id": "b3d04b0a",
   "metadata": {},
   "outputs": [],
   "source": []
  }
 ],
 "metadata": {
  "kernelspec": {
   "display_name": "Python 3 (ipykernel)",
   "language": "python",
   "name": "python3"
  },
  "language_info": {
   "codemirror_mode": {
    "name": "ipython",
    "version": 3
   },
   "file_extension": ".py",
   "mimetype": "text/x-python",
   "name": "python",
   "nbconvert_exporter": "python",
   "pygments_lexer": "ipython3",
   "version": "3.9.12"
  }
 },
 "nbformat": 4,
 "nbformat_minor": 5
}

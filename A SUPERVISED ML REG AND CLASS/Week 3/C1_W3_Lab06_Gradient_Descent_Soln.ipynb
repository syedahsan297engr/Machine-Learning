{
 "cells": [
  {
   "cell_type": "markdown",
   "id": "85953bea",
   "metadata": {},
   "source": [
    "# Optional Lab: Gradient Descent for Logistic Regression"
   ]
  },
  {
   "cell_type": "markdown",
   "id": "1aa8418f",
   "metadata": {},
   "source": [
    "## Goals\n",
    "In this lab, you will:\n",
    "- update gradient descent for logistic regression.\n",
    "- explore gradient descent on a familiar data set"
   ]
  },
  {
   "cell_type": "code",
   "execution_count": 2,
   "id": "15ac51b6",
   "metadata": {},
   "outputs": [],
   "source": [
    "import copy, math\n",
    "import numpy as np\n",
    "%matplotlib widget\n",
    "import matplotlib.pyplot as plt\n",
    "from lab_utils_common import  dlc, plot_data, plt_tumor_data, sigmoid, compute_cost_logistic\n",
    "#from plt_quad_logistic import plt_quad_logistic, plt_prob\n",
    "plt.style.use('./deeplearning.mplstyle')"
   ]
  },
  {
   "cell_type": "markdown",
   "id": "05662500",
   "metadata": {},
   "source": [
    "## Data set \n",
    "Let's start with the same two feature data set used in the decision boundary lab."
   ]
  },
  {
   "cell_type": "code",
   "execution_count": 3,
   "id": "ea88fa2d",
   "metadata": {},
   "outputs": [],
   "source": [
    "X_train = np.array([[0.5, 1.5], [1,1], [1.5, 0.5], [3, 0.5], [2, 2], [1, 2.5]])\n",
    "y_train = np.array([0, 0, 0, 1, 1, 1])"
   ]
  },
  {
   "cell_type": "markdown",
   "id": "8f706b77",
   "metadata": {},
   "source": [
    "As before, we'll use a helper function to plot this data. The data points with label $y=1$ are shown as red crosses, while the data points with label $y=0$ are shown as blue circles."
   ]
  },
  {
   "cell_type": "code",
   "execution_count": 4,
   "id": "8861a105",
   "metadata": {},
   "outputs": [
    {
     "data": {
      "application/vnd.jupyter.widget-view+json": {
       "model_id": "62e1387a23e64fe39bc962a6f121bf8a",
       "version_major": 2,
       "version_minor": 0
      },
      "image/png": "[encoded data removed]",
      "text/html": [
       "\n",
       "            <div style=\"display: inline-block;\">\n",
       "                <div class=\"jupyter-widgets widget-label\" style=\"text-align: center;\">\n",
       "                    Figure\n",
       "                </div>\n",
       "                <img src='data:image/png;base64,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' width=400.0/>\n",
       "            </div>\n",
       "        "
      ],
      "text/plain": [
       "Canvas(footer_visible=False, header_visible=False, toolbar=Toolbar(toolitems=[('Home', 'Reset original view', …"
      ]
     },
     "metadata": {},
     "output_type": "display_data"
    }
   ],
   "source": [
    "fig,ax = plt.subplots(1,1,figsize=(4,4))\n",
    "plot_data(X_train, y_train, ax)\n",
    "\n",
    "ax.axis([0, 4, 0, 3.5])\n",
    "ax.set_ylabel('$x_1$', fontsize=12)\n",
    "ax.set_xlabel('$x_0$', fontsize=12)\n",
    "plt.show()"
   ]
  },
  {
   "cell_type": "markdown",
   "id": "bd6584f6",
   "metadata": {},
   "source": [
    "## Logistic Gradient Descent\n",
    "<img align=\"right\" src=\"./images/C1_W3_Logistic_gradient_descent.png\"     style=\" width:400px; padding: 10px; \" >\n",
    "\n",
    "Recall the gradient descent algorithm utilizes the gradient calculation:\n",
    "$$\\begin{align*}\n",
    "&\\text{repeat until convergence:} \\; \\lbrace \\\\\n",
    "&  \\; \\; \\;w_j = w_j -  \\alpha \\frac{\\partial J(\\mathbf{w},b)}{\\partial w_j} \\tag{1}  \\; & \\text{for j := 0..n-1} \\\\ \n",
    "&  \\; \\; \\;  \\; \\;b = b -  \\alpha \\frac{\\partial J(\\mathbf{w},b)}{\\partial b} \\\\\n",
    "&\\rbrace\n",
    "\\end{align*}$$\n",
    "\n",
    "Where each iteration performs simultaneous updates on $w_j$ for all $j$, where\n",
    "$$\\begin{align*}\n",
    "\\frac{\\partial J(\\mathbf{w},b)}{\\partial w_j}  &= \\frac{1}{m} \\sum\\limits_{i = 0}^{m-1} (f_{\\mathbf{w},b}(\\mathbf{x}^{(i)}) - y^{(i)})x_{j}^{(i)} \\tag{2} \\\\\n",
    "\\frac{\\partial J(\\mathbf{w},b)}{\\partial b}  &= \\frac{1}{m} \\sum\\limits_{i = 0}^{m-1} (f_{\\mathbf{w},b}(\\mathbf{x}^{(i)}) - y^{(i)}) \\tag{3} \n",
    "\\end{align*}$$\n",
    "\n",
    "* m is the number of training examples in the data set      \n",
    "* $f_{\\mathbf{w},b}(x^{(i)})$ is the model's prediction, while $y^{(i)}$ is the target\n",
    "* For a logistic regression model  \n",
    "    $z = \\mathbf{w} \\cdot \\mathbf{x} + b$  \n",
    "    $f_{\\mathbf{w},b}(x) = g(z)$  \n",
    "    where $g(z)$ is the sigmoid function:  \n",
    "    $g(z) = \\frac{1}{1+e^{-z}}$   \n",
    "    \n"
   ]
  },
  {
   "cell_type": "markdown",
   "id": "6e6b783e",
   "metadata": {},
   "source": [
    "### Gradient Descent Implementation\n",
    "The gradient descent algorithm implementation has two components: \n",
    "- The loop implementing equation (1) above. This is `gradient_descent` below and is generally provided to you in optional and practice labs.\n",
    "- The calculation of the current gradient, equations (2,3) above. This is `compute_gradient_logistic` below. You will be asked to implement this week's practice lab.\n",
    "\n",
    "#### Calculating the Gradient, Code Description\n",
    "Implements equation (2),(3) above for all $w_j$ and $b$.\n",
    "There are many ways to implement this. Outlined below is this:\n",
    "- initialize variables to accumulate `dj_dw` and `dj_db`\n",
    "- for each example\n",
    "    - calculate the error for that example $g(\\mathbf{w} \\cdot \\mathbf{x}^{(i)} + b) - \\mathbf{y}^{(i)}$\n",
    "    - for each input value $x_{j}^{(i)}$ in this example,  \n",
    "        - multiply the error by the input  $x_{j}^{(i)}$, and add to the corresponding element of `dj_dw`. (equation 2 above)\n",
    "    - add the error to `dj_db` (equation 3 above)\n",
    "\n",
    "- divide `dj_db` and `dj_dw` by total number of examples (m)\n",
    "- note that $\\mathbf{x}^{(i)}$ in numpy `X[i,:]` or `X[i]`  and $x_{j}^{(i)}$ is `X[i,j]`"
   ]
  },
  {
   "cell_type": "code",
   "execution_count": 5,
   "id": "52f751cd",
   "metadata": {},
   "outputs": [],
   "source": [
    "def compute_gradient_logistic(X, y, w, b): \n",
    "    \"\"\"\n",
    "    Computes the gradient for linear regression \n",
    " \n",
    "    Args:\n",
    "      X (ndarray (m,n): Data, m examples with n features\n",
    "      y (ndarray (m,)): target values\n",
    "      w (ndarray (n,)): model parameters  \n",
    "      b (scalar)      : model parameter\n",
    "    Returns\n",
    "      dj_dw (ndarray (n,)): The gradient of the cost w.r.t. the parameters w. \n",
    "      dj_db (scalar)      : The gradient of the cost w.r.t. the parameter b. \n",
    "    \"\"\"\n",
    "    m,n = X.shape\n",
    "    dj_dw = np.zeros((n,))                           #(n,)\n",
    "    dj_db = 0.\n",
    "\n",
    "    for i in range(m):\n",
    "        f_wb_i = sigmoid(np.dot(X[i],w) + b)          #(n,)(n,)=scalar\n",
    "        err_i  = f_wb_i  - y[i]                       #scalar\n",
    "        for j in range(n):\n",
    "            dj_dw[j] = dj_dw[j] + err_i * X[i,j]      #scalar\n",
    "        dj_db = dj_db + err_i\n",
    "    dj_dw = dj_dw/m                                   #(n,)\n",
    "    dj_db = dj_db/m                                   #scalar\n",
    "        \n",
    "    return dj_db, dj_dw  "
   ]
  },
  {
   "cell_type": "code",
   "execution_count": 6,
   "id": "c08b536d",
   "metadata": {},
   "outputs": [],
   "source": [
    "def compute_gradient_logistic_2(X, y, w, b): \n",
    "\n",
    "    m,n = X.shape\n",
    "    dj_dw = np.zeros((n,))                           #(n,)\n",
    "    dj_db = 0.\n",
    "\n",
    "    for i in range(m):\n",
    "        f_wb_i = sigmoid(np.dot(X[i],w) + b)          #(n,)(n,)=scalar\n",
    "        err_i  = f_wb_i  - y[i]                       #scalar\n",
    "        dj_db = dj_db + err_i\n",
    "    dj_db = dj_db/m \n",
    "    \n",
    "    for j in range(n):\n",
    "        f_wb_i = sigmoid(np.dot(X[j],w) + b)          #(n,)(n,)=scalar\n",
    "        err_ii  = (f_wb_i  - y[j])*X[j]      #scalar\n",
    "        dj_dw = dj_dw + err_ii\n",
    "    dj_dw = dj_dw/m                                   #(n,)\n",
    "                                  #scalar\n",
    "        \n",
    "    return dj_db, dj_dw  \n",
    "\n",
    "#some issues in it"
   ]
  },
  {
   "cell_type": "markdown",
   "id": "a87a0bf4",
   "metadata": {},
   "source": [
    "Check the implementation of the gradient function using the cell below."
   ]
  },
  {
   "cell_type": "code",
   "execution_count": 7,
   "id": "e974352c",
   "metadata": {},
   "outputs": [
    {
     "name": "stdout",
     "output_type": "stream",
     "text": [
      "dj_db: 0.49861806546328574\n",
      "dj_dw: [0.498333393278696, 0.49883942983996693]\n"
     ]
    }
   ],
   "source": [
    "X_tmp = np.array([[0.5, 1.5], [1,1], [1.5, 0.5], [3, 0.5], [2, 2], [1, 2.5]])\n",
    "y_tmp = np.array([0, 0, 0, 1, 1, 1])\n",
    "w_tmp = np.array([2.,3.]) #giving 2 w's bcz cols you say variables are 2\n",
    "b_tmp = 1.\n",
    "dj_db_tmp, dj_dw_tmp = compute_gradient_logistic(X_tmp, y_tmp, w_tmp, b_tmp)\n",
    "print(f\"dj_db: {dj_db_tmp}\" )\n",
    "print(f\"dj_dw: {dj_dw_tmp.tolist()}\" )"
   ]
  },
  {
   "cell_type": "code",
   "execution_count": 8,
   "id": "f114ddfe",
   "metadata": {},
   "outputs": [
    {
     "name": "stdout",
     "output_type": "stream",
     "text": [
      "dj_db: 0.49861806546328574\n",
      "dj_dw: [0.24946279761916612, 0.4158792672430433]\n"
     ]
    }
   ],
   "source": [
    "X_tmp = np.array([[0.5, 1.5], [1,1], [1.5, 0.5], [3, 0.5], [2, 2], [1, 2.5]])\n",
    "y_tmp = np.array([0, 0, 0, 1, 1, 1])\n",
    "w_tmp = np.array([2.,3.])\n",
    "b_tmp = 1.\n",
    "dj_db_tmp, dj_dw_tmp = compute_gradient_logistic_2(X_tmp, y_tmp, w_tmp, b_tmp)\n",
    "print(f\"dj_db: {dj_db_tmp}\" )\n",
    "print(f\"dj_dw: {dj_dw_tmp.tolist()}\" )"
   ]
  },
  {
   "cell_type": "code",
   "execution_count": 8,
   "id": "44e6edaf",
   "metadata": {},
   "outputs": [
    {
     "data": {
      "text/plain": [
       "(2,)"
      ]
     },
     "execution_count": 8,
     "metadata": {},
     "output_type": "execute_result"
    }
   ],
   "source": [
    "w_tmp.shape"
   ]
  },
  {
   "cell_type": "markdown",
   "id": "2ba23c21",
   "metadata": {},
   "source": [
    "**Expected output**\n",
    "``` \n",
    "dj_db: 0.49861806546328574\n",
    "dj_dw: [0.498333393278696, 0.49883942983996693]\n",
    "```"
   ]
  },
  {
   "cell_type": "markdown",
   "id": "22534b12",
   "metadata": {},
   "source": [
    "#### Gradient Descent Code \n",
    "The code implementing equation (1) above is implemented below. Take a moment to locate and compare the functions in the routine to the equations above."
   ]
  },
  {
   "cell_type": "code",
   "execution_count": 9,
   "id": "b056e29b",
   "metadata": {},
   "outputs": [],
   "source": [
    "def gradient_descent(X, y, w_in, b_in, alpha, num_iters): \n",
    "    \"\"\"\n",
    "    Performs batch gradient descent\n",
    "    \n",
    "    Args:\n",
    "      X (ndarray (m,n)   : Data, m examples with n features\n",
    "      y (ndarray (m,))   : target values\n",
    "      w_in (ndarray (n,)): Initial values of model parameters  \n",
    "      b_in (scalar)      : Initial values of model parameter\n",
    "      alpha (float)      : Learning rate\n",
    "      num_iters (scalar) : number of iterations to run gradient descent\n",
    "      \n",
    "    Returns:\n",
    "      w (ndarray (n,))   : Updated values of parameters\n",
    "      b (scalar)         : Updated value of parameter \n",
    "    \"\"\"\n",
    "    # An array to store cost J and w's at each iteration primarily for graphing later\n",
    "    J_history = []\n",
    "    w = copy.deepcopy(w_in)  #avoid modifying global w within function\n",
    "    b = b_in\n",
    "    \n",
    "    for i in range(num_iters):\n",
    "        # Calculate the gradient and update the parameters\n",
    "        dj_db, dj_dw = compute_gradient_logistic(X, y, w, b)   \n",
    "\n",
    "        # Update Parameters using w, b, alpha and gradient\n",
    "        w = w - alpha * dj_dw               \n",
    "        b = b - alpha * dj_db               \n",
    "      \n",
    "        # Save cost J at each iteration\n",
    "        if i<100000:      # prevent resource exhaustion \n",
    "            J_history.append( compute_cost_logistic(X, y, w, b) )\n",
    "\n",
    "        # Print cost every at intervals 10 times or as many iterations if < 10\n",
    "        if i% math.ceil(num_iters / 10) == 0:\n",
    "            print(f\"Iteration {i:4d}: Cost {J_history[-1]}   \")\n",
    "        \n",
    "    return w, b, J_history         #return final w,b and J history for graphing\n"
   ]
  },
  {
   "cell_type": "markdown",
   "id": "06f7a5a2",
   "metadata": {},
   "source": [
    "Let's run gradient descent on our data set."
   ]
  },
  {
   "cell_type": "code",
   "execution_count": 10,
   "id": "d8e83e6b",
   "metadata": {},
   "outputs": [
    {
     "name": "stdout",
     "output_type": "stream",
     "text": [
      "Iteration    0: Cost 0.684610468560574   \n",
      "Iteration 1000: Cost 0.1590977666870457   \n",
      "Iteration 2000: Cost 0.08460064176930078   \n",
      "Iteration 3000: Cost 0.05705327279402531   \n",
      "Iteration 4000: Cost 0.04290759421682   \n",
      "Iteration 5000: Cost 0.03433847729884557   \n",
      "Iteration 6000: Cost 0.02860379802212006   \n",
      "Iteration 7000: Cost 0.02450156960879306   \n",
      "Iteration 8000: Cost 0.02142370332569295   \n",
      "Iteration 9000: Cost 0.019030137124109114   \n",
      "\n",
      "updated parameters: w:[5.28 5.08], b:-14.222409982019837\n"
     ]
    }
   ],
   "source": [
    "w_tmp  = np.zeros_like(X_train[0])\n",
    "b_tmp  = 0.\n",
    "alph = 0.1\n",
    "iters = 10000\n",
    "\n",
    "w_out, b_out, _ = gradient_descent(X_train, y_train, w_tmp, b_tmp, alph, iters) \n",
    "print(f\"\\nupdated parameters: w:{w_out}, b:{b_out}\")"
   ]
  },
  {
   "cell_type": "markdown",
   "id": "1fcbb769",
   "metadata": {},
   "source": [
    "#### Let's plot the results of gradient descent:"
   ]
  },
  {
   "cell_type": "code",
   "execution_count": 11,
   "id": "0c2a4e97",
   "metadata": {},
   "outputs": [
    {
     "ename": "NameError",
     "evalue": "name 'plt_prob' is not defined",
     "output_type": "error",
     "traceback": [
      "\u001b[1;31m---------------------------------------------------------------------------\u001b[0m",
      "\u001b[1;31mNameError\u001b[0m                                 Traceback (most recent call last)",
      "Input \u001b[1;32mIn [11]\u001b[0m, in \u001b[0;36m<cell line: 3>\u001b[1;34m()\u001b[0m\n\u001b[0;32m      1\u001b[0m fig,ax \u001b[38;5;241m=\u001b[39m plt\u001b[38;5;241m.\u001b[39msubplots(\u001b[38;5;241m1\u001b[39m,\u001b[38;5;241m1\u001b[39m,figsize\u001b[38;5;241m=\u001b[39m(\u001b[38;5;241m5\u001b[39m,\u001b[38;5;241m4\u001b[39m))\n\u001b[0;32m      2\u001b[0m \u001b[38;5;66;03m# plot the probability \u001b[39;00m\n\u001b[1;32m----> 3\u001b[0m \u001b[43mplt_prob\u001b[49m(ax, w_out, b_out)\n\u001b[0;32m      5\u001b[0m \u001b[38;5;66;03m# Plot the original data\u001b[39;00m\n\u001b[0;32m      6\u001b[0m ax\u001b[38;5;241m.\u001b[39mset_ylabel(\u001b[38;5;124mr\u001b[39m\u001b[38;5;124m'\u001b[39m\u001b[38;5;124m$x_1$\u001b[39m\u001b[38;5;124m'\u001b[39m)\n",
      "\u001b[1;31mNameError\u001b[0m: name 'plt_prob' is not defined"
     ]
    },
    {
     "data": {
      "application/vnd.jupyter.widget-view+json": {
       "model_id": "c7d51601dc8f4159b19e8571cf5711e0",
       "version_major": 2,
       "version_minor": 0
      },
      "image/png": "[encoded data removed]",
      "text/html": [
       "\n",
       "            <div style=\"display: inline-block;\">\n",
       "                <div class=\"jupyter-widgets widget-label\" style=\"text-align: center;\">\n",
       "                    Figure\n",
       "                </div>\n",
       "                <img src='data:image/png;base64,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' width=500.0/>\n",
       "            </div>\n",
       "        "
      ],
      "text/plain": [
       "Canvas(toolbar=Toolbar(toolitems=[('Home', 'Reset original view', 'home', 'home'), ('Back', 'Back to previous …"
      ]
     },
     "metadata": {},
     "output_type": "display_data"
    }
   ],
   "source": [
    "fig,ax = plt.subplots(1,1,figsize=(5,4))\n",
    "# plot the probability \n",
    "plt_prob(ax, w_out, b_out)\n",
    "\n",
    "# Plot the original data\n",
    "ax.set_ylabel(r'$x_1$')\n",
    "ax.set_xlabel(r'$x_0$')   \n",
    "ax.axis([0, 4, 0, 3.5])\n",
    "plot_data(X_train,y_train,ax)\n",
    "\n",
    "# Plot the decision boundary\n",
    "x0 = -b_out/w_out[0]\n",
    "x1 = -b_out/w_out[1]\n",
    "ax.plot([0,x0],[x1,0], c=dlc[\"dlblue\"], lw=1)\n",
    "plt.show()"
   ]
  },
  {
   "cell_type": "markdown",
   "id": "69adedae",
   "metadata": {},
   "source": [
    "In the plot above:\n",
    " - the shading reflects the probability y=1 (result prior to decision boundary)\n",
    " - the decision boundary is the line at which the probability = 0.5\n",
    " "
   ]
  },
  {
   "cell_type": "markdown",
   "id": "a486c3a6",
   "metadata": {},
   "source": [
    "## Another Data set\n",
    "Let's return to a one-variable data set. With just two parameters, $w$, $b$, it is possible to plot the cost function using a contour plot to get a better idea of what gradient descent is up to."
   ]
  },
  {
   "cell_type": "code",
   "execution_count": 12,
   "id": "85f1535e",
   "metadata": {},
   "outputs": [],
   "source": [
    "x_train = np.array([0., 1, 2, 3, 4, 5])\n",
    "y_train = np.array([0,  0, 0, 1, 1, 1])"
   ]
  },
  {
   "cell_type": "markdown",
   "id": "e9b23523",
   "metadata": {},
   "source": [
    "As before, we'll use a helper function to plot this data. The data points with label $y=1$ are shown as red crosses, while the data points with label $y=0$ are shown as blue circles."
   ]
  },
  {
   "cell_type": "code",
   "execution_count": 13,
   "id": "b57d02d0",
   "metadata": {},
   "outputs": [
    {
     "data": {
      "application/vnd.jupyter.widget-view+json": {
       "model_id": "b39b908e21f748c7a9f0fdeb2a44028d",
       "version_major": 2,
       "version_minor": 0
      },
      "image/png": "[encoded data removed]",
      "text/html": [
       "\n",
       "            <div style=\"display: inline-block;\">\n",
       "                <div class=\"jupyter-widgets widget-label\" style=\"text-align: center;\">\n",
       "                    Figure\n",
       "                </div>\n",
       "                <img src='data:image/png;base64,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' width=400.0/>\n",
       "            </div>\n",
       "        "
      ],
      "text/plain": [
       "Canvas(footer_visible=False, header_visible=False, toolbar=Toolbar(toolitems=[('Home', 'Reset original view', …"
      ]
     },
     "metadata": {},
     "output_type": "display_data"
    }
   ],
   "source": [
    "fig,ax = plt.subplots(1,1,figsize=(4,3))\n",
    "plt_tumor_data(x_train, y_train, ax)\n",
    "plt.show()"
   ]
  },
  {
   "cell_type": "markdown",
   "id": "dd03f76f",
   "metadata": {},
   "source": [
    "In the plot below, try:\n",
    "- changing $w$ and $b$ by clicking within the contour plot on the upper right.\n",
    "    - changes may take a second or two\n",
    "    - note the changing value of cost on the upper left plot.\n",
    "    - note the cost is accumulated by a loss on each example (vertical dotted lines)\n",
    "- run gradient descent by clicking the orange button.\n",
    "    - note the steadily decreasing cost (contour and cost plot are in log(cost) \n",
    "    - clicking in the contour plot will reset the model for a new run\n",
    "- to reset the plot, rerun the cell"
   ]
  },
  {
   "cell_type": "code",
   "execution_count": 14,
   "id": "499c5232",
   "metadata": {},
   "outputs": [
    {
     "ename": "NameError",
     "evalue": "name 'plt_quad_logistic' is not defined",
     "output_type": "error",
     "traceback": [
      "\u001b[1;31m---------------------------------------------------------------------------\u001b[0m",
      "\u001b[1;31mNameError\u001b[0m                                 Traceback (most recent call last)",
      "Input \u001b[1;32mIn [14]\u001b[0m, in \u001b[0;36m<cell line: 3>\u001b[1;34m()\u001b[0m\n\u001b[0;32m      1\u001b[0m w_range \u001b[38;5;241m=\u001b[39m np\u001b[38;5;241m.\u001b[39marray([\u001b[38;5;241m-\u001b[39m\u001b[38;5;241m1\u001b[39m, \u001b[38;5;241m7\u001b[39m])\n\u001b[0;32m      2\u001b[0m b_range \u001b[38;5;241m=\u001b[39m np\u001b[38;5;241m.\u001b[39marray([\u001b[38;5;241m1\u001b[39m, \u001b[38;5;241m-\u001b[39m\u001b[38;5;241m14\u001b[39m])\n\u001b[1;32m----> 3\u001b[0m quad \u001b[38;5;241m=\u001b[39m \u001b[43mplt_quad_logistic\u001b[49m( x_train, y_train, w_range, b_range )\n",
      "\u001b[1;31mNameError\u001b[0m: name 'plt_quad_logistic' is not defined"
     ]
    }
   ],
   "source": [
    "w_range = np.array([-1, 7])\n",
    "b_range = np.array([1, -14])\n",
    "quad = plt_quad_logistic( x_train, y_train, w_range, b_range )"
   ]
  },
  {
   "cell_type": "markdown",
   "id": "13f7b3e0",
   "metadata": {},
   "source": [
    "## Congratulations!\n",
    "You have:\n",
    "- examined the formulas and implementation of calculating the gradient for logistic regression\n",
    "- utilized those routines in\n",
    "    - exploring a single variable data set\n",
    "    - exploring a two-variable data set"
   ]
  },
  {
   "cell_type": "code",
   "execution_count": null,
   "id": "b3d04b0a",
   "metadata": {},
   "outputs": [],
   "source": []
  }
 ],
 "metadata": {
  "kernelspec": {
   "display_name": "Python 3 (ipykernel)",
   "language": "python",
   "name": "python3"
  },
  "language_info": {
   "codemirror_mode": {
    "name": "ipython",
    "version": 3
   },
   "file_extension": ".py",
   "mimetype": "text/x-python",
   "name": "python",
   "nbconvert_exporter": "python",
   "pygments_lexer": "ipython3",
   "version": "3.9.12"
  }
 },
 "nbformat": 4,
 "nbformat_minor": 5
}

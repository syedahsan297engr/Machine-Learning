{
 "cells": [
  {
   "cell_type": "markdown",
   "id": "f8f5122e",
   "metadata": {},
   "source": [
    "# Scikit Learn\n"
   ]
  },
  {
   "cell_type": "markdown",
   "id": "e240c81d",
   "metadata": {},
   "source": [
    "# Model Building Library"
   ]
  },
  {
   "cell_type": "code",
   "execution_count": null,
   "id": "f06ea85b",
   "metadata": {},
   "outputs": [],
   "source": [
    "from sklearn import datasets\n",
    "from sklearn import metrics\n",
    "from sklearn.svm import SVC #support vector classifier\n",
    "import numpy as np\n",
    "import warnings\n",
    "warnings.filterwarnings(\"ignore\")"
   ]
  },
  {
   "cell_type": "code",
   "execution_count": null,
   "id": "a490945c",
   "metadata": {},
   "outputs": [],
   "source": [
    "#Going to talkabout iris date set\n",
    "#The Iris dataset is composed of 50 samples from three different species of Iris. \n",
    "#Each sample contains four features. (What's a feature again?)\n",
    "#The length and width of the sepals, the length and width of the pedals. \n",
    "#This data sets consists of 3 different types of irises’ (Setosa, Versicolour, and Virginica) petal and sepal length, \n",
    "#stored in a 150x4 numpy.ndarray\n",
    "ds = datasets.load_iris()  #loading iris from data sets\n",
    "#print(ds)\n",
    "#size(ds,2). ndims"
   ]
  },
  {
   "cell_type": "code",
   "execution_count": null,
   "id": "7f4d4dcd",
   "metadata": {},
   "outputs": [],
   "source": [
    "model = SVC()\n",
    "model.fit(ds.data, ds.target)\n",
    "print(model)"
   ]
  },
  {
   "cell_type": "code",
   "execution_count": null,
   "id": "7c757448",
   "metadata": {},
   "outputs": [],
   "source": [
    "#make predictions\n",
    "expected = ds.target\n",
    "predicted = model.predict(ds.data)\n",
    "print(metrics.classification_report(expected, predicted))"
   ]
  },
  {
   "cell_type": "code",
   "execution_count": null,
   "id": "8a7ba004",
   "metadata": {},
   "outputs": [],
   "source": [
    "print(metrics.classification_report(predicted, expected))"
   ]
  },
  {
   "cell_type": "code",
   "execution_count": null,
   "id": "c8d677d5",
   "metadata": {},
   "outputs": [],
   "source": [
    "import pandas as pd"
   ]
  },
  {
   "cell_type": "code",
   "execution_count": null,
   "id": "3c07e273",
   "metadata": {},
   "outputs": [],
   "source": [
    "#df = pd.read_csv(\"Garbage_iris.csv\")\n",
    "df = pd.read_csv(\"iris.csv\")\n",
    "df.head()"
   ]
  },
  {
   "cell_type": "code",
   "execution_count": null,
   "id": "d5fc9cc8",
   "metadata": {},
   "outputs": [],
   "source": [
    "df.describe()"
   ]
  },
  {
   "cell_type": "code",
   "execution_count": null,
   "id": "68d5a689",
   "metadata": {},
   "outputs": [],
   "source": [
    "x = np.arange(0, len(df), 1)\n",
    "x"
   ]
  },
  {
   "cell_type": "code",
   "execution_count": null,
   "id": "7b0d710e",
   "metadata": {},
   "outputs": [],
   "source": [
    "df.columns[1] #some idea for somewhere for loop"
   ]
  },
  {
   "cell_type": "code",
   "execution_count": null,
   "id": "e9d5ef7d",
   "metadata": {},
   "outputs": [],
   "source": [
    "import matplotlib.pyplot as plt\n",
    "plt.figure(figsize=(10, 10))\n",
    "plt.scatter(x , df[\"sepal.length\"], marker = \".\")\n",
    "plt.scatter(x , df[\"sepal.width\"], marker = \".\", color = \"g\")\n",
    "plt.scatter(x , df[\"petal.length\"], marker = \"+\", color = \"r\")\n",
    "plt.scatter(x , df[\"petal.width\"], marker = \"+\", color = \"b\")"
   ]
  },
  {
   "cell_type": "code",
   "execution_count": null,
   "id": "ac3debcf",
   "metadata": {},
   "outputs": [],
   "source": [
    "import matplotlib.pyplot as plt\n",
    "plt.figure(figsize=(10, 10))\n",
    "plt.scatter(x , df[\"sepal.length\"], marker = \".\")\n",
    "plt.scatter(x , df[\"sepal.width\"], marker = \".\")\n",
    "plt.scatter(x , df[\"petal.length\"], marker = \".\")\n",
    "plt.scatter(x , df[\"petal.width\"], marker = \".\")"
   ]
  },
  {
   "cell_type": "code",
   "execution_count": null,
   "id": "caef9d0e",
   "metadata": {},
   "outputs": [],
   "source": [
    "from sklearn.linear_model import LogisticRegression\n",
    "from sklearn.metrics import accuracy_score, log_loss, jaccard_score"
   ]
  },
  {
   "cell_type": "code",
   "execution_count": null,
   "id": "165d1e83",
   "metadata": {},
   "outputs": [],
   "source": [
    "from sklearn.model_selection import train_test_split"
   ]
  },
  {
   "cell_type": "code",
   "execution_count": null,
   "id": "d8c8031f",
   "metadata": {},
   "outputs": [],
   "source": [
    "df.head()"
   ]
  },
  {
   "cell_type": "code",
   "execution_count": null,
   "id": "f4f6e581",
   "metadata": {},
   "outputs": [],
   "source": [
    "X_df = df.drop(columns=\"variety\")\n",
    "X_df.head()"
   ]
  },
  {
   "cell_type": "code",
   "execution_count": null,
   "id": "e388cd88",
   "metadata": {},
   "outputs": [],
   "source": [
    "Y_df = df[[\"variety\"]]\n",
    "Y_df.head()"
   ]
  },
  {
   "cell_type": "code",
   "execution_count": null,
   "id": "5f09c77a",
   "metadata": {},
   "outputs": [],
   "source": [
    "x_tr, x_ts, y_tr, y_ts = train_test_split(X_df, Y_df, test_size=0.3, random_state=42)"
   ]
  },
  {
   "cell_type": "code",
   "execution_count": null,
   "id": "372225d9",
   "metadata": {},
   "outputs": [],
   "source": [
    "x_tr.shape"
   ]
  },
  {
   "cell_type": "code",
   "execution_count": null,
   "id": "8fb7df0d",
   "metadata": {},
   "outputs": [],
   "source": [
    "model = LogisticRegression()\n",
    "model.fit(x_tr, y_tr)"
   ]
  },
  {
   "cell_type": "code",
   "execution_count": null,
   "id": "dd63f880",
   "metadata": {},
   "outputs": [],
   "source": [
    "prediction = model.predict(x_ts)\n",
    "prediction"
   ]
  },
  {
   "cell_type": "code",
   "execution_count": null,
   "id": "01d65502",
   "metadata": {},
   "outputs": [],
   "source": [
    "accuracy_score(prediction, y_ts)"
   ]
  },
  {
   "cell_type": "code",
   "execution_count": null,
   "id": "4dbbeaa0",
   "metadata": {},
   "outputs": [],
   "source": [
    "y_ts[0:5]"
   ]
  },
  {
   "cell_type": "markdown",
   "id": "107c01b4",
   "metadata": {},
   "source": [
    "# Now some Advance Logistic by Target Encoding"
   ]
  },
  {
   "cell_type": "code",
   "execution_count": null,
   "id": "7d0488c3",
   "metadata": {},
   "outputs": [],
   "source": [
    "# Label encoding the target variable\n",
    "from sklearn.preprocessing import LabelEncoder\n",
    "encode=LabelEncoder()\n",
    "df['variety']=encode.fit_transform(df['variety'])\n",
    "df.head()"
   ]
  },
  {
   "cell_type": "markdown",
   "id": "7708a358",
   "metadata": {},
   "source": [
    "# I want some plots"
   ]
  },
  {
   "cell_type": "code",
   "execution_count": null,
   "id": "4702794b",
   "metadata": {},
   "outputs": [],
   "source": [
    "h1 = df[[\"sepal.length\", \"sepal.width\"]]\n",
    "h1.head()"
   ]
  },
  {
   "cell_type": "code",
   "execution_count": null,
   "id": "e75fd351",
   "metadata": {},
   "outputs": [],
   "source": [
    "h1 = h1.values"
   ]
  },
  {
   "cell_type": "code",
   "execution_count": null,
   "id": "93d59dfe",
   "metadata": {},
   "outputs": [],
   "source": [
    "too = df[[\"variety\"]]\n",
    "df[[\"variety\"]].value_counts()"
   ]
  },
  {
   "cell_type": "code",
   "execution_count": null,
   "id": "d583cff8",
   "metadata": {},
   "outputs": [],
   "source": [
    "too = df[\"variety\"].values"
   ]
  },
  {
   "cell_type": "markdown",
   "id": "38fca2fa",
   "metadata": {},
   "source": [
    "Now let say i want to plot these 3 as a category on a plot w.r.t 2 features mentioned above"
   ]
  },
  {
   "cell_type": "code",
   "execution_count": null,
   "id": "7d374e4c",
   "metadata": {},
   "outputs": [],
   "source": [
    "a1 = too == 0\n",
    "a2 = too == 1\n",
    "a3 = too == 2\n",
    "a1 = a1.reshape(-1,)\n",
    "a2 = a2.reshape(-1,)\n",
    "a3 = a3.reshape(-1,)\n",
    "h1[a1, 0]\n",
    "h1[a2, 0]\n",
    "h1[a3, 1]"
   ]
  },
  {
   "cell_type": "code",
   "execution_count": null,
   "id": "c1ffb1e8",
   "metadata": {},
   "outputs": [],
   "source": [
    "s = 180\n",
    "loc = \"best\"\n",
    "fig,ax = plt.subplots(1,1,figsize=(10,10))\n",
    "ax.scatter(h1[a1, 0], h1[a1, 1], marker='.', s=s, c = 'red', label = \"satosa\")\n",
    "ax.scatter(h1[a2, 0], h1[a2, 1], marker='.', s=s, facecolors='none', edgecolors=\"g\", lw=3, label = \"versicolor\")\n",
    "ax.scatter(h1[a3, 0], h1[a3, 1], marker='.', s=s, facecolors='none', edgecolors=\"b\", lw=3, label = \"virginica\")\n",
    "ax.legend(loc=loc)\n",
    "\n",
    "ax.figure.canvas.toolbar_visible = False\n",
    "ax.figure.canvas.header_visible = False\n",
    "ax.figure.canvas.footer_visible = False\n"
   ]
  },
  {
   "cell_type": "markdown",
   "id": "84f94005",
   "metadata": {},
   "source": [
    "# Again Modeling this time i have used encoding"
   ]
  },
  {
   "cell_type": "code",
   "execution_count": null,
   "id": "e0e85928",
   "metadata": {},
   "outputs": [],
   "source": [
    "# Label encoding the target variable\n",
    "from sklearn.preprocessing import LabelEncoder\n",
    "encode=LabelEncoder()\n",
    "df['variety']=encode.fit_transform(df['variety'])\n",
    "df.head()"
   ]
  },
  {
   "cell_type": "code",
   "execution_count": null,
   "id": "4264d7fd",
   "metadata": {},
   "outputs": [],
   "source": [
    "X_df = df.drop(columns=\"variety\")\n",
    "X_df.head()\n",
    "Y_df = df[[\"variety\"]]\n",
    "Y_df.head()"
   ]
  },
  {
   "cell_type": "code",
   "execution_count": null,
   "id": "eb7587d1",
   "metadata": {},
   "outputs": [],
   "source": [
    "x_tr, x_ts, y_tr, y_ts = train_test_split(X_df, Y_df, test_size=0.3, random_state=42)"
   ]
  },
  {
   "cell_type": "code",
   "execution_count": null,
   "id": "0659d059",
   "metadata": {},
   "outputs": [],
   "source": [
    "model = LogisticRegression()\n",
    "model.fit(x_tr, y_tr)"
   ]
  },
  {
   "cell_type": "code",
   "execution_count": null,
   "id": "c7ec2db4",
   "metadata": {},
   "outputs": [],
   "source": [
    "prediction = model.predict(x_ts)\n",
    "prediction"
   ]
  },
  {
   "cell_type": "code",
   "execution_count": null,
   "id": "b55a93df",
   "metadata": {},
   "outputs": [],
   "source": [
    "accuracy_score(y_ts, prediction)"
   ]
  },
  {
   "cell_type": "code",
   "execution_count": null,
   "id": "8f3105e4",
   "metadata": {},
   "outputs": [],
   "source": [
    "prediction_proba = model.predict_proba(x_ts)\n",
    "prediction_proba[0:5]"
   ]
  },
  {
   "cell_type": "code",
   "execution_count": null,
   "id": "4660230d",
   "metadata": {},
   "outputs": [],
   "source": [
    "log_loss(y_ts, prediction_proba)"
   ]
  },
  {
   "cell_type": "markdown",
   "id": "538196c9",
   "metadata": {},
   "source": [
    "Getting name of iris instead of these nums"
   ]
  },
  {
   "cell_type": "code",
   "execution_count": null,
   "id": "c3ada273",
   "metadata": {},
   "outputs": [],
   "source": [
    "predictions_t = encode.inverse_transform(prediction)\n",
    "predictions_t"
   ]
  },
  {
   "cell_type": "code",
   "execution_count": null,
   "id": "95a6b023",
   "metadata": {},
   "outputs": [],
   "source": [
    "from sklearn.metrics import classification_report, confusion_matrix"
   ]
  },
  {
   "cell_type": "code",
   "execution_count": null,
   "id": "d70f5c8d",
   "metadata": {},
   "outputs": [],
   "source": [
    "from mlxtend.plotting import plot_confusion_matrix\n",
    "cnf_matrix = confusion_matrix(y_ts, prediction, labels=[0,1,2])\n",
    "fig, ax = plot_confusion_matrix(conf_mat=cnf_matrix, figsize=(6, 6), cmap=plt.cm.Greens)\n",
    "plt.xlabel('Predictions', fontsize=18)\n",
    "plt.ylabel('Actuals', fontsize=18)\n",
    "plt.title('Confusion Matrix', fontsize=18)\n",
    "plt.show()"
   ]
  },
  {
   "cell_type": "markdown",
   "id": "03313dd1",
   "metadata": {},
   "source": [
    "# Lets Use KNN and Decision Tree for it\n"
   ]
  },
  {
   "cell_type": "code",
   "execution_count": null,
   "id": "669b6a7a",
   "metadata": {},
   "outputs": [],
   "source": [
    "from sklearn.neighbors import KNeighborsClassifier\n",
    "k = 2\n",
    "neigh = KNeighborsClassifier(n_neighbors=k)\n",
    "neigh.fit(x_tr, y_tr)\n",
    "neigh"
   ]
  },
  {
   "cell_type": "code",
   "execution_count": null,
   "id": "d179de03",
   "metadata": {},
   "outputs": [],
   "source": [
    "p = neigh.predict(x_ts)\n",
    "p"
   ]
  },
  {
   "cell_type": "code",
   "execution_count": null,
   "id": "bdd94a76",
   "metadata": {},
   "outputs": [],
   "source": [
    "accuracy_score(p, y_ts)"
   ]
  },
  {
   "cell_type": "code",
   "execution_count": null,
   "id": "6334be80",
   "metadata": {},
   "outputs": [],
   "source": [
    "def warn(*args, **kwargs):\n",
    "    pass\n",
    "import warnings\n",
    "warnings.warn = warn"
   ]
  },
  {
   "cell_type": "code",
   "execution_count": null,
   "id": "6645c1d0",
   "metadata": {},
   "outputs": [],
   "source": [
    "from sklearn.tree import DecisionTreeClassifier\n",
    "import sklearn.tree as tree"
   ]
  },
  {
   "cell_type": "code",
   "execution_count": null,
   "id": "caf54124",
   "metadata": {},
   "outputs": [],
   "source": [
    "drugTree = DecisionTreeClassifier(criterion=\"entropy\", max_depth = 4)\n",
    "drugTree.fit(x_tr, y_tr)"
   ]
  },
  {
   "cell_type": "code",
   "execution_count": null,
   "id": "8d7e2a30",
   "metadata": {},
   "outputs": [],
   "source": [
    "pr = drugTree.predict(x_ts)\n",
    "pr"
   ]
  },
  {
   "cell_type": "code",
   "execution_count": null,
   "id": "5f784a64",
   "metadata": {},
   "outputs": [],
   "source": [
    "accuracy_score(pr, y_ts)"
   ]
  },
  {
   "cell_type": "code",
   "execution_count": null,
   "id": "03acd62b",
   "metadata": {},
   "outputs": [],
   "source": []
  }
 ],
 "metadata": {
  "kernelspec": {
   "display_name": "Python 3 (ipykernel)",
   "language": "python",
   "name": "python3"
  },
  "language_info": {
   "codemirror_mode": {
    "name": "ipython",
    "version": 3
   },
   "file_extension": ".py",
   "mimetype": "text/x-python",
   "name": "python",
   "nbconvert_exporter": "python",
   "pygments_lexer": "ipython3",
   "version": "3.9.12"
  }
 },
 "nbformat": 4,
 "nbformat_minor": 5
}

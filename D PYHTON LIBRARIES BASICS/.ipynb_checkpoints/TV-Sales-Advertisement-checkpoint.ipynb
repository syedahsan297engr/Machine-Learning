{
 "cells": [
  {
   "cell_type": "code",
   "execution_count": null,
   "id": "8b6118c9",
   "metadata": {},
   "outputs": [],
   "source": [
    "import pandas as pd #reading the files and performing some operations on it\n",
    "import matplotlib.pyplot as plt #plotting\n",
    "from sklearn.metrics import r2_score, mean_squared_error #calculating some mathematics\n",
    "from math import sqrt #maths\n",
    "\n",
    "%matplotlib inline"
   ]
  },
  {
   "cell_type": "code",
   "execution_count": null,
   "id": "69e40a92",
   "metadata": {},
   "outputs": [],
   "source": [
    "data = pd.read_csv(\"Advertising.csv\", index_col = 0) #csv file in my directory where there is my this code users folder local disk C\n",
    "data.head() #will show first 5"
   ]
  },
  {
   "cell_type": "code",
   "execution_count": null,
   "id": "328cafea",
   "metadata": {},
   "outputs": [],
   "source": [
    "# summarize the data\n",
    "data.describe()"
   ]
  },
  {
   "cell_type": "code",
   "execution_count": null,
   "id": "f675ccac",
   "metadata": {},
   "outputs": [],
   "source": [
    "data.shape #dimension"
   ]
  },
  {
   "cell_type": "code",
   "execution_count": null,
   "id": "924b16a3",
   "metadata": {},
   "outputs": [],
   "source": [
    "data.size #rows * column"
   ]
  },
  {
   "cell_type": "code",
   "execution_count": null,
   "id": "3155fcf0",
   "metadata": {
    "scrolled": true
   },
   "outputs": [],
   "source": [
    "fig,axs = plt.subplots(1,3, sharey = True) #making subplots"
   ]
  },
  {
   "cell_type": "code",
   "execution_count": null,
   "id": "043d9dfb",
   "metadata": {},
   "outputs": [],
   "source": [
    "fig,axs = plt.subplots(1,3, sharey = True)\n",
    "data.plot(kind = \"scatter\", x = \"TV\", y = \"sales\", ax = axs[0], figsize = (16,8))\n",
    "data.plot(kind = \"scatter\", x = \"radio\", y = \"sales\", ax = axs[1])\n",
    "data.plot(kind = \"scatter\", x = \"newspaper\", y = \"sales\", ax = axs[2])\n",
    "#plotting sales against 3 differenet parameters"
   ]
  },
  {
   "cell_type": "code",
   "execution_count": null,
   "id": "5e451751",
   "metadata": {},
   "outputs": [],
   "source": [
    "feature_cols = [\"TV\"]\n",
    "x = data[feature_cols]\n",
    "y = data.sales"
   ]
  },
  {
   "cell_type": "code",
   "execution_count": null,
   "id": "e11773ca",
   "metadata": {},
   "outputs": [],
   "source": [
    "from sklearn.linear_model import LinearRegression #the basic problem central idea linear regression\n",
    "lm = LinearRegression()\n",
    "lm.fit(x,y)"
   ]
  },
  {
   "cell_type": "code",
   "execution_count": null,
   "id": "14a28ed7",
   "metadata": {},
   "outputs": [],
   "source": [
    "print(lm.intercept_)  #these are the two terms to accurate our model you know y = mx + c ---- m is slope c is intercept\n",
    "print(lm.coef_)\n",
    "#these 2 will pe used to predict the unknown value\n",
    "#there is some mathematical formula but python libraries make life easy"
   ]
  },
  {
   "cell_type": "code",
   "execution_count": null,
   "id": "096912cd",
   "metadata": {},
   "outputs": [],
   "source": [
    "#Now we have a linear equation we can use this for prediction\n",
    "#let say TV advertising spends 50000$\n",
    "#predict for the sales is as\n",
    "\n",
    "7.032594 + 0.047537*50\n",
    "#y = c + mx x is 50 y is to find that is sales"
   ]
  },
  {
   "cell_type": "code",
   "execution_count": null,
   "id": "432bf58d",
   "metadata": {},
   "outputs": [],
   "source": [
    "#till now we have interpret coeff of models and then make a prediction\n",
    "#now find and analyze residual of model\n",
    "#then model efficinecy RMSE R-Squared"
   ]
  },
  {
   "cell_type": "code",
   "execution_count": null,
   "id": "569477f2",
   "metadata": {},
   "outputs": [],
   "source": [
    "X_new = pd.DataFrame({\"TV\":[50]})\n",
    "X_new.head()"
   ]
  },
  {
   "cell_type": "code",
   "execution_count": null,
   "id": "8e5c5d25",
   "metadata": {},
   "outputs": [],
   "source": [
    "lm.predict(X_new) #as u see the prediction is same as we calc before"
   ]
  },
  {
   "cell_type": "code",
   "execution_count": null,
   "id": "becda3e3",
   "metadata": {
    "scrolled": true
   },
   "outputs": [],
   "source": [
    "X_new = pd.DataFrame({\"TV\" : [data.TV.min(), data.TV.max()]}) #max and min value in TV col.\n",
    "X_new.head()"
   ]
  },
  {
   "cell_type": "code",
   "execution_count": null,
   "id": "d513f984",
   "metadata": {},
   "outputs": [],
   "source": [
    "preds = lm.predict(X_new)\n",
    "preds\n",
    "#sales at 0.7 and 296.4\n",
    "#y_pred = linear_regressor.predict(x)"
   ]
  },
  {
   "cell_type": "code",
   "execution_count": null,
   "id": "89f5d2dd",
   "metadata": {},
   "outputs": [],
   "source": [
    "\n",
    "data.plot(kind = \"scatter\", x = \"TV\", y = \"sales\")\n",
    "#plt.plot(X_new, preds, color = \"g\", linewidth = 2)\n",
    "#b = np.polyfit(X_new, preds, 1)\n",
    "#plt.plot(X_new, m*X_new + b)\n",
    "#data.plot(x='Yr',y='Treg',color='Red',legend=False)\n",
    "#plt.scatter(x, y)\n",
    "\n",
    "\n",
    "import seaborn as sns  #other methods not working so use seaborn\n",
    "#sns.set_style(\"white\")\n",
    "#sns.set_style(\"ticks\")\n",
    "#sns.regplot(data.TV, data.sales)\n",
    "sns.regplot(x = \"TV\", y = \"sales\", data = data)"
   ]
  },
  {
   "cell_type": "code",
   "execution_count": null,
   "id": "32dfbdd2",
   "metadata": {},
   "outputs": [],
   "source": [
    "import statsmodels.formula.api as smf  #for performing statisticals tests\n",
    "lm = smf.ols(formula = \"sales ~ TV\", data = data).fit()"
   ]
  },
  {
   "cell_type": "code",
   "execution_count": null,
   "id": "a8057a4d",
   "metadata": {},
   "outputs": [],
   "source": [
    "lm.conf_int()\n",
    "#conf_int reports confidence intervals for each coefficient estimate in a fitted linear regression model, using a sandwich estimator for the standard errors and a small sample correction for the critical values."
   ]
  },
  {
   "cell_type": "code",
   "execution_count": null,
   "id": "e486dd21",
   "metadata": {},
   "outputs": [],
   "source": [
    "lm.pvalues #p < 0.5 mean variable has some effect and needs to be retained"
   ]
  },
  {
   "cell_type": "code",
   "execution_count": null,
   "id": "0fcb017c",
   "metadata": {},
   "outputs": [],
   "source": [
    "lm.rsquared #61% values are available for accurate predictions"
   ]
  },
  {
   "cell_type": "code",
   "execution_count": null,
   "id": "28f66683",
   "metadata": {},
   "outputs": [],
   "source": [
    "lm.rsquared_adj #use this in case of multiple linear regressions"
   ]
  },
  {
   "cell_type": "code",
   "execution_count": null,
   "id": "f20df330",
   "metadata": {},
   "outputs": [],
   "source": [
    "#multiple Linear regression\n",
    "feature_cols = [\"TV\", \"radio\", \"newspaper\"]\n",
    "X = data[feature_cols]\n",
    "y = data.sales"
   ]
  },
  {
   "cell_type": "code",
   "execution_count": null,
   "id": "ba4621fa",
   "metadata": {},
   "outputs": [],
   "source": [
    "from sklearn import model_selection\n",
    "xtrain, xtest, ytrain, ytest = model_selection.train_test_split(X,y,test_size = 0.3, random_state = 42)\n",
    "#splitting into train test data sets"
   ]
  },
  {
   "cell_type": "code",
   "execution_count": null,
   "id": "f22efb5b",
   "metadata": {},
   "outputs": [],
   "source": [
    "lm = LinearRegression()\n",
    "lm.fit(X,y)\n",
    "print(lm.intercept_)\n",
    "print(lm.coef_) #coeff for all 3"
   ]
  },
  {
   "cell_type": "code",
   "execution_count": null,
   "id": "a2c00e5b",
   "metadata": {},
   "outputs": [],
   "source": [
    "TVS = (230.1*0.04576465) + 2.9388893694594085\n",
    "RD = (37.8*0.18853002)+ 2.9388893694594085\n",
    "NP = (69.2*(-0.00103749))+ 2.9388893694594085\n",
    "RES = TVS + RD + NP\n",
    "yes = 2.9388893694594085 + (230.1*0.04576465) + (37.8*0.18853002) + (69.2*(-0.00103749))\n",
    "print(RES)\n",
    "print(\"Ahhh Now understood how to implement equation\")\n",
    "print(yes)"
   ]
  },
  {
   "cell_type": "code",
   "execution_count": null,
   "id": "5dc2232c",
   "metadata": {},
   "outputs": [],
   "source": [
    "data.head(1)"
   ]
  },
  {
   "cell_type": "code",
   "execution_count": null,
   "id": "ed42719c",
   "metadata": {},
   "outputs": [],
   "source": [
    "lm = LinearRegression()\n",
    "lm.fit(xtrain,ytrain)\n",
    "print(lm.intercept_)\n",
    "print(lm.coef_)"
   ]
  },
  {
   "cell_type": "code",
   "execution_count": null,
   "id": "2bb9881e",
   "metadata": {},
   "outputs": [],
   "source": [
    "TVS = (230.1*0.04405928) + 2.7089490925159048\n",
    "RD = (37.8*0.1992875)+ 2.7089490925159048\n",
    "NP = (69.2*( 0.00688245))+ 2.7089490925159048\n",
    "yes = 2.9388893694594085 + (230.1*0.04405928) + (37.8*0.1992875) + (69.2*(0.00688245))\n",
    "print(RES)\n",
    "print(\"Ahhh Now understood how to implement equation\")\n",
    "print(yes)"
   ]
  },
  {
   "cell_type": "code",
   "execution_count": null,
   "id": "6a73931c",
   "metadata": {},
   "outputs": [],
   "source": [
    "predictions = lm.predict(xtest)\n",
    "print((mean_squared_error(ytest, predictions)))  #RMSE"
   ]
  },
  {
   "cell_type": "code",
   "execution_count": null,
   "id": "e877a848",
   "metadata": {},
   "outputs": [],
   "source": [
    "a = mean_squared_error(ytest, predictions)\n",
    "print(sqrt(a))"
   ]
  },
  {
   "cell_type": "code",
   "execution_count": null,
   "id": "c10122d5",
   "metadata": {},
   "outputs": [],
   "source": [
    "pred_train = lm.predict(xtrain)"
   ]
  },
  {
   "cell_type": "code",
   "execution_count": 116,
   "id": "f7ad1916",
   "metadata": {},
   "outputs": [
    {
     "name": "stdout",
     "output_type": "stream",
     "text": [
      "Testee data accuracy\n",
      "0.8609466508230367\n",
      "Trainee data accuracy\n",
      "0.9055159502227753\n"
     ]
    }
   ],
   "source": [
    "print(\"Testee data accuracy\")\n",
    "print(r2_score(ytest, predictions))\n",
    "print(\"Trainee data accuracy\")\n",
    "print(r2_score(ytrain, pred_train))"
   ]
  },
  {
   "cell_type": "code",
   "execution_count": null,
   "id": "de126a78",
   "metadata": {},
   "outputs": [],
   "source": [
    "lm = smf.ols(formula = \"sales ~ TV + radio + newspaper\", data = data).fit()\n",
    "lm.conf_int()\n",
    "lm.summary() #model efficiency\n",
    "#lower AIC better model"
   ]
  },
  {
   "cell_type": "code",
   "execution_count": null,
   "id": "d4a5dbad",
   "metadata": {},
   "outputs": [],
   "source": [
    "lm = smf.ols(formula = \"sales ~ TV + radio + newspaper\", data = data).fit()\n",
    "lm.rsquared"
   ]
  },
  {
   "cell_type": "code",
   "execution_count": null,
   "id": "59cb9980",
   "metadata": {},
   "outputs": [],
   "source": [
    "len(data)"
   ]
  },
  {
   "cell_type": "code",
   "execution_count": null,
   "id": "9cf47ea7",
   "metadata": {},
   "outputs": [],
   "source": [
    "import numpy as np\n",
    "a = np.random.seed(12345)\n",
    "print(a)"
   ]
  },
  {
   "cell_type": "code",
   "execution_count": null,
   "id": "f3ad880b",
   "metadata": {},
   "outputs": [],
   "source": [
    "data.columns"
   ]
  },
  {
   "cell_type": "code",
   "execution_count": null,
   "id": "c677b6c5",
   "metadata": {},
   "outputs": [],
   "source": [
    "np.random.seed(12345)\n",
    "\n",
    "nums = np.random.rand(len(data))\n",
    "#print(nums)\n",
    "mask_large = nums > 0.5\n",
    "data[\"Size\"] = \"small\"\n",
    "data.loc[mask_large, \"Size\"] = \"large\"\n",
    "data.head()"
   ]
  },
  {
   "cell_type": "code",
   "execution_count": null,
   "id": "a23a3fef",
   "metadata": {},
   "outputs": [],
   "source": [
    "print(nums) #now see how above large small is setted"
   ]
  },
  {
   "cell_type": "code",
   "execution_count": 84,
   "id": "b0b1aa7d",
   "metadata": {},
   "outputs": [
    {
     "data": {
      "text/html": [
       "<div>\n",
       "<style scoped>\n",
       "    .dataframe tbody tr th:only-of-type {\n",
       "        vertical-align: middle;\n",
       "    }\n",
       "\n",
       "    .dataframe tbody tr th {\n",
       "        vertical-align: top;\n",
       "    }\n",
       "\n",
       "    .dataframe thead th {\n",
       "        text-align: right;\n",
       "    }\n",
       "</style>\n",
       "<table border=\"1\" class=\"dataframe\">\n",
       "  <thead>\n",
       "    <tr style=\"text-align: right;\">\n",
       "      <th></th>\n",
       "      <th>TV</th>\n",
       "      <th>radio</th>\n",
       "      <th>newspaper</th>\n",
       "      <th>sales</th>\n",
       "      <th>Size</th>\n",
       "      <th>Islarge</th>\n",
       "    </tr>\n",
       "  </thead>\n",
       "  <tbody>\n",
       "    <tr>\n",
       "      <th>1</th>\n",
       "      <td>230.1</td>\n",
       "      <td>37.8</td>\n",
       "      <td>69.2</td>\n",
       "      <td>22.1</td>\n",
       "      <td>large</td>\n",
       "      <td>1</td>\n",
       "    </tr>\n",
       "    <tr>\n",
       "      <th>2</th>\n",
       "      <td>44.5</td>\n",
       "      <td>39.3</td>\n",
       "      <td>45.1</td>\n",
       "      <td>10.4</td>\n",
       "      <td>small</td>\n",
       "      <td>0</td>\n",
       "    </tr>\n",
       "    <tr>\n",
       "      <th>3</th>\n",
       "      <td>17.2</td>\n",
       "      <td>45.9</td>\n",
       "      <td>69.3</td>\n",
       "      <td>9.3</td>\n",
       "      <td>small</td>\n",
       "      <td>0</td>\n",
       "    </tr>\n",
       "    <tr>\n",
       "      <th>4</th>\n",
       "      <td>151.5</td>\n",
       "      <td>41.3</td>\n",
       "      <td>58.5</td>\n",
       "      <td>18.5</td>\n",
       "      <td>small</td>\n",
       "      <td>0</td>\n",
       "    </tr>\n",
       "    <tr>\n",
       "      <th>5</th>\n",
       "      <td>180.8</td>\n",
       "      <td>10.8</td>\n",
       "      <td>58.4</td>\n",
       "      <td>12.9</td>\n",
       "      <td>large</td>\n",
       "      <td>1</td>\n",
       "    </tr>\n",
       "  </tbody>\n",
       "</table>\n",
       "</div>"
      ],
      "text/plain": [
       "      TV  radio  newspaper  sales   Size  Islarge\n",
       "1  230.1   37.8       69.2   22.1  large        1\n",
       "2   44.5   39.3       45.1   10.4  small        0\n",
       "3   17.2   45.9       69.3    9.3  small        0\n",
       "4  151.5   41.3       58.5   18.5  small        0\n",
       "5  180.8   10.8       58.4   12.9  large        1"
      ]
     },
     "execution_count": 84,
     "metadata": {},
     "output_type": "execute_result"
    }
   ],
   "source": [
    "data[\"Islarge\"] = data.Size.map({\"small\" : 0, \"large\" : 1}) #new column\n",
    "data.head()"
   ]
  },
  {
   "cell_type": "code",
   "execution_count": 85,
   "id": "2db8b266",
   "metadata": {},
   "outputs": [
    {
     "data": {
      "text/plain": [
       "<zip at 0x16e5058f3c0>"
      ]
     },
     "execution_count": 85,
     "metadata": {},
     "output_type": "execute_result"
    }
   ],
   "source": [
    "feature_cols = [\"TV\", \"radio\", \"newspaper\", \"Islarge\"]\n",
    "X = data[feature_cols]\n",
    "y = data.sales\n",
    "\n",
    "lm = LinearRegression()\n",
    "lm.fit(xtrain,ytrain)\n",
    "zip(feature_cols, lm.coef_)"
   ]
  },
  {
   "cell_type": "code",
   "execution_count": 86,
   "id": "b8b49fc5",
   "metadata": {},
   "outputs": [
    {
     "data": {
      "text/html": [
       "<div>\n",
       "<style scoped>\n",
       "    .dataframe tbody tr th:only-of-type {\n",
       "        vertical-align: middle;\n",
       "    }\n",
       "\n",
       "    .dataframe tbody tr th {\n",
       "        vertical-align: top;\n",
       "    }\n",
       "\n",
       "    .dataframe thead th {\n",
       "        text-align: right;\n",
       "    }\n",
       "</style>\n",
       "<table border=\"1\" class=\"dataframe\">\n",
       "  <thead>\n",
       "    <tr style=\"text-align: right;\">\n",
       "      <th></th>\n",
       "      <th>TV</th>\n",
       "      <th>radio</th>\n",
       "      <th>newspaper</th>\n",
       "      <th>sales</th>\n",
       "      <th>Size</th>\n",
       "      <th>Islarge</th>\n",
       "      <th>Area</th>\n",
       "    </tr>\n",
       "  </thead>\n",
       "  <tbody>\n",
       "    <tr>\n",
       "      <th>1</th>\n",
       "      <td>230.1</td>\n",
       "      <td>37.8</td>\n",
       "      <td>69.2</td>\n",
       "      <td>22.1</td>\n",
       "      <td>large</td>\n",
       "      <td>1</td>\n",
       "      <td>rural</td>\n",
       "    </tr>\n",
       "    <tr>\n",
       "      <th>2</th>\n",
       "      <td>44.5</td>\n",
       "      <td>39.3</td>\n",
       "      <td>45.1</td>\n",
       "      <td>10.4</td>\n",
       "      <td>small</td>\n",
       "      <td>0</td>\n",
       "      <td>urban</td>\n",
       "    </tr>\n",
       "    <tr>\n",
       "      <th>3</th>\n",
       "      <td>17.2</td>\n",
       "      <td>45.9</td>\n",
       "      <td>69.3</td>\n",
       "      <td>9.3</td>\n",
       "      <td>small</td>\n",
       "      <td>0</td>\n",
       "      <td>rural</td>\n",
       "    </tr>\n",
       "    <tr>\n",
       "      <th>4</th>\n",
       "      <td>151.5</td>\n",
       "      <td>41.3</td>\n",
       "      <td>58.5</td>\n",
       "      <td>18.5</td>\n",
       "      <td>small</td>\n",
       "      <td>0</td>\n",
       "      <td>urban</td>\n",
       "    </tr>\n",
       "    <tr>\n",
       "      <th>5</th>\n",
       "      <td>180.8</td>\n",
       "      <td>10.8</td>\n",
       "      <td>58.4</td>\n",
       "      <td>12.9</td>\n",
       "      <td>large</td>\n",
       "      <td>1</td>\n",
       "      <td>suburban</td>\n",
       "    </tr>\n",
       "  </tbody>\n",
       "</table>\n",
       "</div>"
      ],
      "text/plain": [
       "      TV  radio  newspaper  sales   Size  Islarge      Area\n",
       "1  230.1   37.8       69.2   22.1  large        1     rural\n",
       "2   44.5   39.3       45.1   10.4  small        0     urban\n",
       "3   17.2   45.9       69.3    9.3  small        0     rural\n",
       "4  151.5   41.3       58.5   18.5  small        0     urban\n",
       "5  180.8   10.8       58.4   12.9  large        1  suburban"
      ]
     },
     "execution_count": 86,
     "metadata": {},
     "output_type": "execute_result"
    }
   ],
   "source": [
    "np.random.seed(123456)\n",
    "nums = np.random.rand(len(data))\n",
    "mask_suburban = (nums > 0.33) & (nums < 0.66)\n",
    "mask_urban = (nums > 0.66)\n",
    "data[\"Area\"] = \"rural\"\n",
    "data.loc[mask_suburban, \"Area\"] = \"suburban\"\n",
    "data.loc[mask_urban, \"Area\"] = \"urban\"\n",
    "data.head() \n",
    "\n",
    "#same as bef method new col and some value criteria"
   ]
  },
  {
   "cell_type": "code",
   "execution_count": 89,
   "id": "59220c7a",
   "metadata": {},
   "outputs": [
    {
     "data": {
      "text/html": [
       "<div>\n",
       "<style scoped>\n",
       "    .dataframe tbody tr th:only-of-type {\n",
       "        vertical-align: middle;\n",
       "    }\n",
       "\n",
       "    .dataframe tbody tr th {\n",
       "        vertical-align: top;\n",
       "    }\n",
       "\n",
       "    .dataframe thead th {\n",
       "        text-align: right;\n",
       "    }\n",
       "</style>\n",
       "<table border=\"1\" class=\"dataframe\">\n",
       "  <thead>\n",
       "    <tr style=\"text-align: right;\">\n",
       "      <th></th>\n",
       "      <th>Area_suburban</th>\n",
       "      <th>Area_urban</th>\n",
       "    </tr>\n",
       "  </thead>\n",
       "  <tbody>\n",
       "    <tr>\n",
       "      <th>1</th>\n",
       "      <td>0</td>\n",
       "      <td>0</td>\n",
       "    </tr>\n",
       "    <tr>\n",
       "      <th>2</th>\n",
       "      <td>0</td>\n",
       "      <td>1</td>\n",
       "    </tr>\n",
       "    <tr>\n",
       "      <th>3</th>\n",
       "      <td>0</td>\n",
       "      <td>0</td>\n",
       "    </tr>\n",
       "    <tr>\n",
       "      <th>4</th>\n",
       "      <td>0</td>\n",
       "      <td>1</td>\n",
       "    </tr>\n",
       "    <tr>\n",
       "      <th>5</th>\n",
       "      <td>1</td>\n",
       "      <td>0</td>\n",
       "    </tr>\n",
       "    <tr>\n",
       "      <th>...</th>\n",
       "      <td>...</td>\n",
       "      <td>...</td>\n",
       "    </tr>\n",
       "    <tr>\n",
       "      <th>196</th>\n",
       "      <td>1</td>\n",
       "      <td>0</td>\n",
       "    </tr>\n",
       "    <tr>\n",
       "      <th>197</th>\n",
       "      <td>0</td>\n",
       "      <td>1</td>\n",
       "    </tr>\n",
       "    <tr>\n",
       "      <th>198</th>\n",
       "      <td>1</td>\n",
       "      <td>0</td>\n",
       "    </tr>\n",
       "    <tr>\n",
       "      <th>199</th>\n",
       "      <td>0</td>\n",
       "      <td>0</td>\n",
       "    </tr>\n",
       "    <tr>\n",
       "      <th>200</th>\n",
       "      <td>0</td>\n",
       "      <td>0</td>\n",
       "    </tr>\n",
       "  </tbody>\n",
       "</table>\n",
       "<p>200 rows × 2 columns</p>\n",
       "</div>"
      ],
      "text/plain": [
       "     Area_suburban  Area_urban\n",
       "1                0           0\n",
       "2                0           1\n",
       "3                0           0\n",
       "4                0           1\n",
       "5                1           0\n",
       "..             ...         ...\n",
       "196              1           0\n",
       "197              0           1\n",
       "198              1           0\n",
       "199              0           0\n",
       "200              0           0\n",
       "\n",
       "[200 rows x 2 columns]"
      ]
     },
     "execution_count": 89,
     "metadata": {},
     "output_type": "execute_result"
    }
   ],
   "source": [
    "area_dummies = pd.get_dummies(data.Area, prefix = \"Area\").iloc[:,1:] #this iloc is removing Area_rural dummy\n",
    "area_dummies"
   ]
  },
  {
   "cell_type": "code",
   "execution_count": 90,
   "id": "3dfd0dde",
   "metadata": {},
   "outputs": [
    {
     "data": {
      "text/html": [
       "<div>\n",
       "<style scoped>\n",
       "    .dataframe tbody tr th:only-of-type {\n",
       "        vertical-align: middle;\n",
       "    }\n",
       "\n",
       "    .dataframe tbody tr th {\n",
       "        vertical-align: top;\n",
       "    }\n",
       "\n",
       "    .dataframe thead th {\n",
       "        text-align: right;\n",
       "    }\n",
       "</style>\n",
       "<table border=\"1\" class=\"dataframe\">\n",
       "  <thead>\n",
       "    <tr style=\"text-align: right;\">\n",
       "      <th></th>\n",
       "      <th>TV</th>\n",
       "      <th>radio</th>\n",
       "      <th>newspaper</th>\n",
       "      <th>sales</th>\n",
       "      <th>Size</th>\n",
       "      <th>Islarge</th>\n",
       "      <th>Area</th>\n",
       "      <th>Area_suburban</th>\n",
       "      <th>Area_urban</th>\n",
       "    </tr>\n",
       "  </thead>\n",
       "  <tbody>\n",
       "    <tr>\n",
       "      <th>1</th>\n",
       "      <td>230.1</td>\n",
       "      <td>37.8</td>\n",
       "      <td>69.2</td>\n",
       "      <td>22.1</td>\n",
       "      <td>large</td>\n",
       "      <td>1</td>\n",
       "      <td>rural</td>\n",
       "      <td>0</td>\n",
       "      <td>0</td>\n",
       "    </tr>\n",
       "    <tr>\n",
       "      <th>2</th>\n",
       "      <td>44.5</td>\n",
       "      <td>39.3</td>\n",
       "      <td>45.1</td>\n",
       "      <td>10.4</td>\n",
       "      <td>small</td>\n",
       "      <td>0</td>\n",
       "      <td>urban</td>\n",
       "      <td>0</td>\n",
       "      <td>1</td>\n",
       "    </tr>\n",
       "    <tr>\n",
       "      <th>3</th>\n",
       "      <td>17.2</td>\n",
       "      <td>45.9</td>\n",
       "      <td>69.3</td>\n",
       "      <td>9.3</td>\n",
       "      <td>small</td>\n",
       "      <td>0</td>\n",
       "      <td>rural</td>\n",
       "      <td>0</td>\n",
       "      <td>0</td>\n",
       "    </tr>\n",
       "    <tr>\n",
       "      <th>4</th>\n",
       "      <td>151.5</td>\n",
       "      <td>41.3</td>\n",
       "      <td>58.5</td>\n",
       "      <td>18.5</td>\n",
       "      <td>small</td>\n",
       "      <td>0</td>\n",
       "      <td>urban</td>\n",
       "      <td>0</td>\n",
       "      <td>1</td>\n",
       "    </tr>\n",
       "    <tr>\n",
       "      <th>5</th>\n",
       "      <td>180.8</td>\n",
       "      <td>10.8</td>\n",
       "      <td>58.4</td>\n",
       "      <td>12.9</td>\n",
       "      <td>large</td>\n",
       "      <td>1</td>\n",
       "      <td>suburban</td>\n",
       "      <td>1</td>\n",
       "      <td>0</td>\n",
       "    </tr>\n",
       "  </tbody>\n",
       "</table>\n",
       "</div>"
      ],
      "text/plain": [
       "      TV  radio  newspaper  sales   Size  Islarge      Area  Area_suburban  \\\n",
       "1  230.1   37.8       69.2   22.1  large        1     rural              0   \n",
       "2   44.5   39.3       45.1   10.4  small        0     urban              0   \n",
       "3   17.2   45.9       69.3    9.3  small        0     rural              0   \n",
       "4  151.5   41.3       58.5   18.5  small        0     urban              0   \n",
       "5  180.8   10.8       58.4   12.9  large        1  suburban              1   \n",
       "\n",
       "   Area_urban  \n",
       "1           0  \n",
       "2           1  \n",
       "3           0  \n",
       "4           1  \n",
       "5           0  "
      ]
     },
     "execution_count": 90,
     "metadata": {},
     "output_type": "execute_result"
    }
   ],
   "source": [
    "data = pd.concat([data, area_dummies], axis = 1)\n",
    "data.head()"
   ]
  },
  {
   "cell_type": "code",
   "execution_count": 105,
   "id": "9f4ab385",
   "metadata": {},
   "outputs": [
    {
     "name": "stdout",
     "output_type": "stream",
     "text": [
      "['TV', 'radio', 'newspaper', 'Islarge', 'Area_suburban', 'Area_urban'] [ 0.04574401  0.1878667  -0.0010877   0.07739661 -0.10656299  0.26813802]\n",
      "2.8741909890879125\n"
     ]
    }
   ],
   "source": [
    "feature_cols = [\"TV\", \"radio\", \"newspaper\", \"Islarge\", \"Area_suburban\", \"Area_urban\"]\n",
    "X = data[feature_cols]\n",
    "y = data.sales\n",
    "\n",
    "lm = LinearRegression()\n",
    "lm.fit(X,y)\n",
    "print(feature_cols, lm.coef_) #coef_ represents coefficinet of linear equation\n",
    "print(lm.intercept_)"
   ]
  },
  {
   "cell_type": "code",
   "execution_count": null,
   "id": "39074787",
   "metadata": {},
   "outputs": [],
   "source": [
    "(2.874+(37.8*0.1878667) + (230.1*0.04574401) +(69.2*(-0.001087))+(1*0.07739661)) "
   ]
  },
  {
   "cell_type": "code",
   "execution_count": null,
   "id": "9722e692",
   "metadata": {},
   "outputs": [],
   "source": [
    "(2.874+(10.8*0.1878667)) + (2.874+(180.8*0.04574401)) + (2.874+(58.4*(-0.001087)))"
   ]
  },
  {
   "cell_type": "code",
   "execution_count": null,
   "id": "da23e015",
   "metadata": {},
   "outputs": [],
   "source": [
    "(2.874+(230.1*0.04574401))"
   ]
  },
  {
   "cell_type": "code",
   "execution_count": null,
   "id": "3c699eea",
   "metadata": {},
   "outputs": [],
   "source": [
    "#2.9388893694594085\n",
    "#[ 0.04576465  0.18853002 -0.00103749]"
   ]
  },
  {
   "cell_type": "code",
   "execution_count": 93,
   "id": "4e76c656",
   "metadata": {},
   "outputs": [
    {
     "data": {
      "text/plain": [
       "17.970774413127696"
      ]
     },
     "execution_count": 93,
     "metadata": {},
     "output_type": "execute_result"
    }
   ],
   "source": [
    "7.0325935491276965+(230.1*0.04753664)"
   ]
  },
  {
   "cell_type": "code",
   "execution_count": 117,
   "id": "cb254025",
   "metadata": {},
   "outputs": [],
   "source": [
    "feature_cols = [\"TV\", \"radio\", \"newspaper\", \"Islarge\", \"Area_suburban\", \"Area_urban\"]\n",
    "X = data[feature_cols]\n",
    "y = data.sales"
   ]
  },
  {
   "cell_type": "code",
   "execution_count": 118,
   "id": "86c94bc5",
   "metadata": {},
   "outputs": [
    {
     "data": {
      "text/plain": [
       "1    22.1\n",
       "2    10.4\n",
       "3     9.3\n",
       "4    18.5\n",
       "5    12.9\n",
       "Name: sales, dtype: float64"
      ]
     },
     "execution_count": 118,
     "metadata": {},
     "output_type": "execute_result"
    }
   ],
   "source": [
    "y.head()"
   ]
  },
  {
   "cell_type": "code",
   "execution_count": 119,
   "id": "227d61ba",
   "metadata": {},
   "outputs": [],
   "source": [
    "from sklearn.model_selection import train_test_split\n",
    "x_train, x_test, y_train, y_test = train_test_split(X,y,test_size=0.3,random_state=42)"
   ]
  },
  {
   "cell_type": "code",
   "execution_count": 120,
   "id": "b02db01b",
   "metadata": {},
   "outputs": [
    {
     "data": {
      "text/plain": [
       "LinearRegression()"
      ]
     },
     "execution_count": 120,
     "metadata": {},
     "output_type": "execute_result"
    }
   ],
   "source": [
    "from sklearn.linear_model import LinearRegression\n",
    "lm = LinearRegression()\n",
    "lm.fit(x_train,y_train)"
   ]
  },
  {
   "cell_type": "code",
   "execution_count": 121,
   "id": "323f41a2",
   "metadata": {},
   "outputs": [
    {
     "data": {
      "text/plain": [
       "array([16.6746768 , 20.9295075 , 21.73322815, 10.91830277, 22.33908039])"
      ]
     },
     "execution_count": 121,
     "metadata": {},
     "output_type": "execute_result"
    }
   ],
   "source": [
    "pred = lm.predict(x_test)\n",
    "pred[0:5]"
   ]
  },
  {
   "cell_type": "code",
   "execution_count": 122,
   "id": "d22a8dc6",
   "metadata": {},
   "outputs": [
    {
     "data": {
      "text/plain": [
       "96     16.9\n",
       "16     22.4\n",
       "31     21.4\n",
       "159     7.3\n",
       "129    24.7\n",
       "Name: sales, dtype: float64"
      ]
     },
     "execution_count": 122,
     "metadata": {},
     "output_type": "execute_result"
    }
   ],
   "source": [
    "y_test[0:5]"
   ]
  },
  {
   "cell_type": "code",
   "execution_count": 115,
   "id": "5d7217b2",
   "metadata": {},
   "outputs": [
    {
     "name": "stdout",
     "output_type": "stream",
     "text": [
      "0.8476288026903777\n"
     ]
    }
   ],
   "source": [
    "print(r2_score(pred,y_test))"
   ]
  },
  {
   "cell_type": "code",
   "execution_count": 123,
   "id": "48dcafab",
   "metadata": {},
   "outputs": [
    {
     "name": "stdout",
     "output_type": "stream",
     "text": [
      "3.8199642973480894\n"
     ]
    }
   ],
   "source": [
    "print((mean_squared_error(y_test, pred)))"
   ]
  }
 ],
 "metadata": {
  "kernelspec": {
   "display_name": "Python 3 (ipykernel)",
   "language": "python",
   "name": "python3"
  },
  "language_info": {
   "codemirror_mode": {
    "name": "ipython",
    "version": 3
   },
   "file_extension": ".py",
   "mimetype": "text/x-python",
   "name": "python",
   "nbconvert_exporter": "python",
   "pygments_lexer": "ipython3",
   "version": "3.9.12"
  }
 },
 "nbformat": 4,
 "nbformat_minor": 5
}

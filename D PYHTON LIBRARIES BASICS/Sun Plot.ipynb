{
 "cells": [
  {
   "cell_type": "code",
   "execution_count": 3,
   "id": "f15bf834",
   "metadata": {},
   "outputs": [
    {
     "ename": "TypeError",
     "evalue": "an integer is required (got type datetime.datetime)",
     "output_type": "error",
     "traceback": [
      "\u001b[1;31m---------------------------------------------------------------------------\u001b[0m",
      "\u001b[1;31mTypeError\u001b[0m                                 Traceback (most recent call last)",
      "Input \u001b[1;32mIn [3]\u001b[0m, in \u001b[0;36m<cell line: 25>\u001b[1;34m()\u001b[0m\n\u001b[0;32m     23\u001b[0m ax\u001b[38;5;241m.\u001b[39mset_ylabel(\u001b[38;5;124m'\u001b[39m\u001b[38;5;124mBeta angle (degrees)\u001b[39m\u001b[38;5;124m'\u001b[39m)\n\u001b[0;32m     25\u001b[0m \u001b[38;5;28;01mfor\u001b[39;00m dti \u001b[38;5;129;01min\u001b[39;00m np\u001b[38;5;241m.\u001b[39marange(start_date, end_date, time_step):\n\u001b[0;32m     26\u001b[0m     \u001b[38;5;66;03m# Convert numpy.datetime64 to datetime.datetime\u001b[39;00m\n\u001b[1;32m---> 27\u001b[0m     dti \u001b[38;5;241m=\u001b[39m \u001b[43mdt\u001b[49m\u001b[38;5;241;43m.\u001b[39;49m\u001b[43mdatetime\u001b[49m\u001b[38;5;241;43m.\u001b[39;49m\u001b[43mutcfromtimestamp\u001b[49m\u001b[43m(\u001b[49m\u001b[43mdti\u001b[49m\u001b[38;5;241;43m.\u001b[39;49m\u001b[43mtolist\u001b[49m\u001b[43m(\u001b[49m\u001b[43m)\u001b[49m\u001b[43m)\u001b[49m\n\u001b[0;32m     29\u001b[0m     \u001b[38;5;66;03m# Calculate sun position\u001b[39;00m\n\u001b[0;32m     30\u001b[0m     julian_day \u001b[38;5;241m=\u001b[39m dti\u001b[38;5;241m.\u001b[39mtoordinal() \u001b[38;5;241m-\u001b[39m \u001b[38;5;241m1721424.5\u001b[39m\n",
      "\u001b[1;31mTypeError\u001b[0m: an integer is required (got type datetime.datetime)"
     ]
    },
    {
     "data": {
      "image/png": "[encoded data removed]",
      "text/plain": [
       "<Figure size 432x288 with 1 Axes>"
      ]
     },
     "metadata": {
      "needs_background": "light"
     },
     "output_type": "display_data"
    }
   ],
   "source": [
    "import numpy as np\n",
    "import matplotlib.pyplot as plt\n",
    "import datetime as dt\n",
    "\n",
    "# Define location\n",
    "lat = 40.7128 # latitude in degrees\n",
    "lon = -74.0060 # longitude in degrees\n",
    "\n",
    "# Define time period\n",
    "start_date = np.datetime64('2022-01-01T00:00:00')\n",
    "end_date = np.datetime64('2022-12-31T23:00:00')\n",
    "time_step = np.timedelta64(1, 'h') # hourly time step\n",
    "\n",
    "# Define plot parameters\n",
    "tilt_angle = 30 # tilt angle of solar panels in degrees\n",
    "azimuth_offset = 180 # offset of solar panel azimuth from south in degrees\n",
    "\n",
    "# Create plot\n",
    "fig, ax = plt.subplots()\n",
    "ax.set_aspect('equal')\n",
    "ax.set_title('Sun plot diagram')\n",
    "ax.set_xlabel('Azimuth angle (degrees)')\n",
    "ax.set_ylabel('Beta angle (degrees)')\n",
    "\n",
    "for dti in np.arange(start_date, end_date, time_step):\n",
    "    # Convert numpy.datetime64 to datetime.datetime\n",
    "    dti = dt.datetime.utcfromtimestamp(dti.tolist()/1e9)\n",
    "    \n",
    "    # Calculate sun position\n",
    "    julian_day = dti.toordinal() - 1721424.5\n",
    "    n = julian_day - 2451545.0\n",
    "    L = 280.460 + 0.9856474 * n\n",
    "    g = np.radians(357.528 + 0.9856003 * n)\n",
    "    lambda_sun = np.radians(L + 1.915 * np.sin(g) + 0.020 * np.sin(2 * g))\n",
    "    epsilon = np.radians(23.439 - 0.0000004 * n)\n",
    "    alpha = np.arctan2(np.cos(epsilon) * np.sin(lambda_sun), np.cos(lambda_sun))\n",
    "    delta = np.arcsin(np.sin(epsilon) * np.sin(lambda_sun))\n",
    "    \n",
    "    # Adjust azimuth for solar panel orientation\n",
    "    azimuth = np.degrees(np.pi/2 - alpha)\n",
    "    panel_azimuth = (azimuth + azimuth_offset) % 360\n",
    "    \n",
    "    # Calculate altitude angle\n",
    "    h = np.radians(dti.hour + dti.minute/60 + dti.second/3600 - 12) * np.pi/12\n",
    "    phi = np.radians(lat)\n",
    "    beta = np.arcsin(np.sin(phi) * np.sin(delta) + np.cos(phi) * np.cos(delta) * np.cos(h))\n",
    "    beta = np.degrees(beta)\n",
    "    \n",
    "    # Plot sun position\n",
    "    ax.plot(panel_azimuth, beta, 'ko', markerfacecolor='y')\n",
    "\n",
    "# Add legend\n",
    "ax.legend(['Sun position'])\n",
    "\n",
    "plt.show()\n"
   ]
  },
  {
   "cell_type": "code",
   "execution_count": null,
   "id": "de5ff8dd",
   "metadata": {},
   "outputs": [],
   "source": []
  }
 ],
 "metadata": {
  "kernelspec": {
   "display_name": "Python 3 (ipykernel)",
   "language": "python",
   "name": "python3"
  },
  "language_info": {
   "codemirror_mode": {
    "name": "ipython",
    "version": 3
   },
   "file_extension": ".py",
   "mimetype": "text/x-python",
   "name": "python",
   "nbconvert_exporter": "python",
   "pygments_lexer": "ipython3",
   "version": "3.9.12"
  }
 },
 "nbformat": 4,
 "nbformat_minor": 5
}
